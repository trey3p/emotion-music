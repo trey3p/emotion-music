{
  "cells": [
    {
      "cell_type": "markdown",
      "metadata": {
        "id": "view-in-github",
        "colab_type": "text"
      },
      "source": [
        "<a href=\"https://colab.research.google.com/github/trey3p/emotion-music/blob/main/svm_version1.ipynb\" target=\"_parent\"><img src=\"https://colab.research.google.com/assets/colab-badge.svg\" alt=\"Open In Colab\"/></a>"
      ]
    },
    {
      "cell_type": "code",
      "execution_count": 1,
      "metadata": {
        "id": "mzogUgMni9FP"
      },
      "outputs": [],
      "source": [
        "import sklearn\n",
        "import pandas as pd\n",
        "import numpy as np\n",
        "import os\n",
        "import librosa\n",
        "import matplotlib.pyplot as plt\n",
        "from sklearn.preprocessing import normalize"
      ]
    },
    {
      "cell_type": "markdown",
      "metadata": {
        "id": "6HxfQm4si589"
      },
      "source": [
        "Feature Extraction"
      ]
    },
    {
      "cell_type": "code",
      "execution_count": 2,
      "metadata": {
        "id": "pdCsE1f9RRcF"
      },
      "outputs": [],
      "source": [
        "def padding(array, xx, yy):\n",
        "  #Takes numpy array, desired height, and width and pads the array.\n",
        "\n",
        "  h = array.shape[0]\n",
        "  w = array.shape[1]\n",
        "\n",
        "  a = max((xx - h) // 2,0)\n",
        "  aa = max(0,xx - a - h)\n",
        "\n",
        "  b = max(0,(yy - w) // 2)\n",
        "  bb = max(yy - b - w,0)\n",
        "\n",
        "  return np.pad(array, pad_width=((a, aa), (b, bb)), mode='constant')\n",
        "\n",
        "def extract_features(y):\n",
        "  max_size = 1500 #Max audio file width\n",
        "\n",
        "  #Getting short-time Fourier transform and padding\n",
        "  stft = padding(np.abs(librosa.stft(y, n_fft = 225, hop_length = 512)), 128, max_size)\n",
        "\n",
        "  #Getting MFCCs and padding\n",
        "  mfccs = padding(librosa.feature.mfcc(y, n_fft = 225, hop_length = 512, \n",
        "                                       n_mfcc = 225, S = np.abs(stft)**2), 128, max_size)\n",
        "  \n",
        "  #Getting the spectral centroid\n",
        "\n",
        "  spec_centroid = librosa.feature.spectral_centroid(y=y, sr=sr)\n",
        "  \n",
        "  #Getting chromagram\n",
        "  chroma_stft = librosa.feature.chroma_stft(y=y, sr=sr)\n",
        "  \n",
        "  #Getting spectral bandwith\n",
        "  spec_bw = librosa.feature.spectral_bandwidth(y=y, sr=sr)\n",
        "\n",
        "\n",
        "  #Now padding the spectral pandwith and \n",
        "  image = np.array([padding(normalize(spec_bw),1, max_size)]).reshape(1,max_size)\n",
        "  image = np.append(image,padding(normalize(spec_centroid),1, max_size), axis=0) \n",
        "\n",
        "\n",
        "  #Repeat padding for Spectral Bandwith, Spectral Centroid, Chromagram until they are the same\n",
        "  # size as MFCC and STFT  \n",
        "  for i in range(0,9):\n",
        "    image = np.append(image,padding(normalize(spec_bw),1, max_size), axis=0)\n",
        "    image = np.append(image, padding(normalize(spec_centroid),1, max_size), axis=0)\n",
        "    image = np.append(image, padding(normalize(chroma_stft),12, max_size), axis=0)\n",
        "    \n",
        "  image=np.dstack((image,np.abs(stft)))\n",
        "\n",
        "  image=np.dstack((image,mfccs))\n",
        "\n",
        "  return image\n",
        "\n",
        "  "
      ]
    },
    {
      "cell_type": "code",
      "execution_count": 3,
      "metadata": {
        "colab": {
          "base_uri": "https://localhost:8080/"
        },
        "id": "Z2iQnTZSls_V",
        "outputId": "e0298f4c-5330-43cc-b1f8-f8e1b6652219"
      },
      "outputs": [
        {
          "output_type": "stream",
          "name": "stdout",
          "text": [
            "Drive already mounted at /content/drive; to attempt to forcibly remount, call drive.mount(\"/content/drive\", force_remount=True).\n"
          ]
        }
      ],
      "source": [
        "from google.colab import drive\n",
        "drive.mount('/content/drive')"
      ]
    },
    {
      "cell_type": "code",
      "execution_count": 4,
      "metadata": {
        "id": "pS7Y4HOIrNa7"
      },
      "outputs": [],
      "source": [
        "df_music = pd.read_csv(\"/content/drive/MyDrive/Colab '22 - Plante/music_labels.csv\")"
      ]
    },
    {
      "cell_type": "code",
      "execution_count": 5,
      "metadata": {
        "colab": {
          "base_uri": "https://localhost:8080/"
        },
        "id": "R9V8nGW2ja1m",
        "outputId": "b84862c6-ff91-4a4d-e82f-03ce1a3439e1"
      },
      "outputs": [
        {
          "output_type": "stream",
          "name": "stderr",
          "text": [
            "100%|██████████| 7357/7357 [28:33<00:00,  4.29it/s]\n"
          ]
        }
      ],
      "source": [
        "import random\n",
        "from tqdm import tqdm\n",
        "output_files = os.listdir(\"/content/drive/MyDrive/Colab '22 - Plante/output\")\n",
        "output_files = random.sample(output_files, 1000)\n",
        "features = []\n",
        "ad_names = []\n",
        "ominous = []\n",
        "uplifting = []\n",
        "sad = []\n",
        "other = []\n",
        "\n",
        "for i in tqdm(range(len(df_music))):\n",
        "  if df_music['alt'][i] in output_files:\n",
        "    y, sr = librosa.load(\"/content/drive/MyDrive/Colab '22 - Plante/output/\" + df_music['alt'][i] + \"/accompaniment.wav\", \n",
        "                         duration = 30)\n",
        "    features.append(extract_features(y))\n",
        "    ad_names.append(df_music['alt'][i])\n",
        "    ominous.append(df_music['MUSIC1'][i])\n",
        "    uplifting.append(df_music['MUSIC2'][i])\n",
        "    sad.append(df_music['MUSIC3'][i])\n",
        "    other.append(df_music['MUSIC90'][i])\n",
        "\n",
        "np.concatenate(features, axis = 0)\n",
        "dataset = pd.DataFrame({'Ad Name' : ad_names , 'Ominous-Tense': ominous, 'Uplifting' : uplifting, \n",
        "                        'Sad-Sorrowful' : sad, 'Other' : other, \n",
        "                        'Features' : features})\n"
      ]
    },
    {
      "cell_type": "code",
      "execution_count": 6,
      "metadata": {
        "colab": {
          "base_uri": "https://localhost:8080/",
          "height": 206
        },
        "id": "IZTwOKWIl_ou",
        "outputId": "985a28de-8655-40ad-b4d1-2dcbc218761d"
      },
      "outputs": [
        {
          "output_type": "execute_result",
          "data": {
            "text/html": [
              "<div>\n",
              "<style scoped>\n",
              "    .dataframe tbody tr th:only-of-type {\n",
              "        vertical-align: middle;\n",
              "    }\n",
              "\n",
              "    .dataframe tbody tr th {\n",
              "        vertical-align: top;\n",
              "    }\n",
              "\n",
              "    .dataframe thead th {\n",
              "        text-align: right;\n",
              "    }\n",
              "</style>\n",
              "<table border=\"1\" class=\"dataframe\">\n",
              "  <thead>\n",
              "    <tr style=\"text-align: right;\">\n",
              "      <th></th>\n",
              "      <th>Ad Name</th>\n",
              "      <th>Ominous-Tense</th>\n",
              "      <th>Uplifting</th>\n",
              "      <th>Sad-Sorrowful</th>\n",
              "      <th>Other</th>\n",
              "      <th>Features</th>\n",
              "    </tr>\n",
              "  </thead>\n",
              "  <tbody>\n",
              "    <tr>\n",
              "      <th>0</th>\n",
              "      <td>GOV_DE_CTI_CRONIES</td>\n",
              "      <td>0</td>\n",
              "      <td>0</td>\n",
              "      <td>1</td>\n",
              "      <td>0</td>\n",
              "      <td>[[[0.0, 0.0, 0.0], [0.0, 0.0, 0.0], [0.0, 0.0,...</td>\n",
              "    </tr>\n",
              "    <tr>\n",
              "      <th>1</th>\n",
              "      <td>GOV_IN_HOLCOMB_HOOSIER_VALUES</td>\n",
              "      <td>0</td>\n",
              "      <td>1</td>\n",
              "      <td>0</td>\n",
              "      <td>0</td>\n",
              "      <td>[[[0.0, 0.0, 0.0], [0.0, 0.0, 0.0], [0.0, 0.0,...</td>\n",
              "    </tr>\n",
              "    <tr>\n",
              "      <th>2</th>\n",
              "      <td>GOV_KY_ADKINS_BLUEGRASS</td>\n",
              "      <td>0</td>\n",
              "      <td>1</td>\n",
              "      <td>0</td>\n",
              "      <td>0</td>\n",
              "      <td>[[[0.0, 0.0, 0.0], [0.0, 0.0, 0.0], [0.0, 0.0,...</td>\n",
              "    </tr>\n",
              "    <tr>\n",
              "      <th>3</th>\n",
              "      <td>GOV_KY_BESHEAR_CARES</td>\n",
              "      <td>0</td>\n",
              "      <td>1</td>\n",
              "      <td>1</td>\n",
              "      <td>0</td>\n",
              "      <td>[[[0.0, 0.0, 0.0], [0.0, 0.0, 0.0], [0.0, 0.0,...</td>\n",
              "    </tr>\n",
              "    <tr>\n",
              "      <th>4</th>\n",
              "      <td>GOV_KY_BESHEAR_FUTURE_15</td>\n",
              "      <td>0</td>\n",
              "      <td>1</td>\n",
              "      <td>0</td>\n",
              "      <td>0</td>\n",
              "      <td>[[[0.0, 0.0, 0.0], [0.0, 0.0, 0.0], [0.0, 0.0,...</td>\n",
              "    </tr>\n",
              "  </tbody>\n",
              "</table>\n",
              "</div>"
            ],
            "text/plain": [
              "                         Ad Name  ...                                           Features\n",
              "0             GOV_DE_CTI_CRONIES  ...  [[[0.0, 0.0, 0.0], [0.0, 0.0, 0.0], [0.0, 0.0,...\n",
              "1  GOV_IN_HOLCOMB_HOOSIER_VALUES  ...  [[[0.0, 0.0, 0.0], [0.0, 0.0, 0.0], [0.0, 0.0,...\n",
              "2        GOV_KY_ADKINS_BLUEGRASS  ...  [[[0.0, 0.0, 0.0], [0.0, 0.0, 0.0], [0.0, 0.0,...\n",
              "3           GOV_KY_BESHEAR_CARES  ...  [[[0.0, 0.0, 0.0], [0.0, 0.0, 0.0], [0.0, 0.0,...\n",
              "4       GOV_KY_BESHEAR_FUTURE_15  ...  [[[0.0, 0.0, 0.0], [0.0, 0.0, 0.0], [0.0, 0.0,...\n",
              "\n",
              "[5 rows x 6 columns]"
            ]
          },
          "metadata": {},
          "execution_count": 6
        }
      ],
      "source": [
        "dataset.head()"
      ]
    },
    {
      "cell_type": "markdown",
      "metadata": {
        "id": "x_Xv9p6El6aA"
      },
      "source": [
        "Model"
      ]
    },
    {
      "cell_type": "code",
      "execution_count": 7,
      "metadata": {
        "id": "vB5M10AXl9vn"
      },
      "outputs": [],
      "source": [
        "from sklearn.model_selection import train_test_split\n",
        "X = np.array(features)\n",
        "y = dataset[['Ominous-Tense', 'Uplifting', 'Sad-Sorrowful', 'Other']]\n",
        "X_train, X_test, y_train, y_test = train_test_split(X, y, test_size = .3, random_state = 0, shuffle = True)"
      ]
    },
    {
      "cell_type": "code",
      "source": [
        "X_train.shape"
      ],
      "metadata": {
        "colab": {
          "base_uri": "https://localhost:8080/"
        },
        "id": "e4wUr8bJ1M2Z",
        "outputId": "a252e1f8-8be5-4cc5-a8ff-93919a4405c3"
      },
      "execution_count": 8,
      "outputs": [
        {
          "output_type": "execute_result",
          "data": {
            "text/plain": [
              "(700, 128, 1500, 3)"
            ]
          },
          "metadata": {},
          "execution_count": 8
        }
      ]
    },
    {
      "cell_type": "code",
      "source": [
        "y_train.shape"
      ],
      "metadata": {
        "colab": {
          "base_uri": "https://localhost:8080/"
        },
        "id": "W2b55arJxq-x",
        "outputId": "b0e3b00a-3998-43d4-80d8-3a9cea0599b0"
      },
      "execution_count": 9,
      "outputs": [
        {
          "output_type": "execute_result",
          "data": {
            "text/plain": [
              "(700, 4)"
            ]
          },
          "metadata": {},
          "execution_count": 9
        }
      ]
    },
    {
      "cell_type": "code",
      "source": [
        "nsamples, nx, ny, nz = X_train.shape\n",
        "d2_train_dataset = X_train.resize((nsamples,nx*ny*nz))"
      ],
      "metadata": {
        "id": "Bbe2f4n_03-O"
      },
      "execution_count": 10,
      "outputs": []
    },
    {
      "cell_type": "code",
      "source": [
        "nsamples, nx, ny, nz = X_test.shape\n",
        "d2_train_dataset = X_test.resize((nsamples,nx*ny*nz))"
      ],
      "metadata": {
        "id": "ei2GdyBA9i7a"
      },
      "execution_count": 13,
      "outputs": []
    },
    {
      "cell_type": "code",
      "source": [
        "X_train.shape"
      ],
      "metadata": {
        "colab": {
          "base_uri": "https://localhost:8080/"
        },
        "id": "_JeddhiD1d56",
        "outputId": "3edbb5e5-ad24-4250-b73d-054a9e723a86"
      },
      "execution_count": 14,
      "outputs": [
        {
          "output_type": "execute_result",
          "data": {
            "text/plain": [
              "(700, 576000)"
            ]
          },
          "metadata": {},
          "execution_count": 14
        }
      ]
    },
    {
      "cell_type": "code",
      "execution_count": 16,
      "metadata": {
        "id": "tclgCTt5mpaQ",
        "colab": {
          "base_uri": "https://localhost:8080/"
        },
        "outputId": "278a0913-9589-4a25-bd79-3d68b3011f29"
      },
      "outputs": [
        {
          "output_type": "stream",
          "name": "stdout",
          "text": [
            "Test accuracy forOminous-Tenseis 0.62\n",
            "Test accuracy forUpliftingis 0.5966666666666667\n",
            "Test accuracy forSad-Sorrowfulis 0.8766666666666667\n",
            "Test accuracy forOtheris 0.9933333333333333\n"
          ]
        }
      ],
      "source": [
        "\n",
        "from sklearn.svm import SVC\n",
        "from sklearn.multiclass import OneVsRestClassifier\n",
        "from sklearn.metrics import accuracy_score\n",
        "\n",
        "\n",
        "clf = OneVsRestClassifier(SVC())\n",
        "labels = ['Ominous-Tense', 'Uplifting', 'Sad-Sorrowful', 'Other']\n",
        "for label in labels:\n",
        "  clf.fit(X_train, y_train[label])\n",
        "  prediction = clf.predict(X_test)\n",
        "  print('Test accuracy for' + label + 'is {}'.format(accuracy_score(y_test[label], prediction)))"
      ]
    }
  ],
  "metadata": {
    "colab": {
      "machine_shape": "hm",
      "name": "svm_version1.ipynb",
      "provenance": [],
      "authorship_tag": "ABX9TyN/3il+YKVs9NAhS2viOCpK",
      "include_colab_link": true
    },
    "kernelspec": {
      "display_name": "Python 3",
      "name": "python3"
    },
    "language_info": {
      "name": "python"
    }
  },
  "nbformat": 4,
  "nbformat_minor": 0
}