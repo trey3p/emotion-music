{
  "cells": [
    {
      "cell_type": "markdown",
      "metadata": {
        "id": "view-in-github",
        "colab_type": "text"
      },
      "source": [
        "<a href=\"https://colab.research.google.com/github/trey3p/emotion-music/blob/main/cnn_version_final.ipynb\" target=\"_parent\"><img src=\"https://colab.research.google.com/assets/colab-badge.svg\" alt=\"Open In Colab\"/></a>"
      ]
    },
    {
      "cell_type": "markdown",
      "metadata": {
        "id": "6lzFJ29IuXD9"
      },
      "source": [
        "Mounting GDrive\n"
      ]
    },
    {
      "cell_type": "code",
      "execution_count": 1,
      "metadata": {
        "colab": {
          "base_uri": "https://localhost:8080/"
        },
        "id": "ZayeNRHRsRmg",
        "outputId": "0293fc16-3895-4bd4-97fc-051d7e510a9a"
      },
      "outputs": [
        {
          "output_type": "stream",
          "name": "stdout",
          "text": [
            "Mounted at /content/drive\n"
          ]
        }
      ],
      "source": [
        "from google.colab import drive\n",
        "drive.mount('/content/drive')"
      ]
    },
    {
      "cell_type": "markdown",
      "metadata": {
        "id": "z0RUUlpmuaNE"
      },
      "source": [
        "Extracting Features"
      ]
    },
    {
      "cell_type": "code",
      "execution_count": 2,
      "metadata": {
        "id": "PaC3E4ahLWlx"
      },
      "outputs": [],
      "source": [
        "import pandas as pd\n",
        "import os\n",
        "import librosa\n",
        "import librosa.display\n",
        "import matplotlib.pyplot as plt\n",
        "from sklearn.preprocessing import normalize\n",
        "\n",
        "import numpy as np\n",
        "import pickle\n",
        "import joblib\n",
        "from sklearn.model_selection import train_test_split\n",
        "from tensorflow.keras import models, layers\n",
        "import tensorflow as tf"
      ]
    },
    {
      "cell_type": "code",
      "execution_count": 15,
      "metadata": {
        "id": "oUmE7WY-073l"
      },
      "outputs": [],
      "source": [
        "\n",
        "\n",
        "def padding(array, xx, yy):\n",
        "  #Takes numpy array, desired height, and width and pads the array.\n",
        "\n",
        "  h = array.shape[0]\n",
        "  w = array.shape[1]\n",
        "\n",
        "  a = max((xx - h) // 2,0)\n",
        "  aa = max(0,xx - a - h)\n",
        "\n",
        "  b = max(0,(yy - w) // 2)\n",
        "  bb = max(yy - b - w,0)\n",
        "\n",
        "  return np.pad(array, pad_width=((a, aa), (b, bb)), mode='constant')\n",
        "\n",
        "def extract_features(y):\n",
        "  max_size = 1500 #Max audio file width\n",
        "\n",
        "  #Getting short-time Fourier transform and padding\n",
        "  stft = padding(np.abs(librosa.stft(y, n_fft = 225, hop_length = 512)), 128, max_size)\n",
        "\n",
        "  #Getting MFCCs and padding\n",
        "  mfccs = padding(librosa.feature.mfcc(y, n_fft = 225, hop_length = 512, \n",
        "                                       n_mfcc = 225, S = np.abs(stft)**2), 128, max_size)\n",
        "  \n",
        "  #Getting the spectral centroid\n",
        "\n",
        "  spec_centroid = librosa.feature.spectral_centroid(y=y, sr=sr)\n",
        "  \n",
        "  #Getting chromagram\n",
        "  chroma_stft = librosa.feature.chroma_stft(y=y, sr=sr)\n",
        "  \n",
        "  #Getting spectral bandwith\n",
        "  spec_bw = librosa.feature.spectral_bandwidth(y=y, sr=sr)\n",
        "\n",
        "\n",
        "  #Now padding the spectral pandwith and \n",
        "  image = np.array([padding(normalize(spec_bw),1, max_size)]).reshape(1,max_size)\n",
        "  image = np.append(image,padding(normalize(spec_centroid),1, max_size), axis=0) \n",
        "\n",
        "\n",
        "  #Repeat padding for Spectral Bandwith, Spectral Centroid, Chromagram until they are the same\n",
        "  # size as MFCC and STFT  \n",
        "  for i in range(0,9):\n",
        "    image = np.append(image,padding(normalize(spec_bw),1, max_size), axis=0)\n",
        "    image = np.append(image, padding(normalize(spec_centroid),1, max_size), axis=0)\n",
        "    image = np.append(image, padding(normalize(chroma_stft),12, max_size), axis=0)\n",
        "    \n",
        "  image=np.dstack((image,np.abs(stft)))\n",
        "\n",
        "  image=np.dstack((image,mfccs))\n",
        "\n",
        "  return image\n",
        "\n"
      ]
    },
    {
      "cell_type": "markdown",
      "metadata": {
        "id": "hjtWdds5NfJT"
      },
      "source": [
        "Creating Dataset with Features"
      ]
    },
    {
      "cell_type": "code",
      "execution_count": 4,
      "metadata": {
        "colab": {
          "base_uri": "https://localhost:8080/",
          "height": 382
        },
        "id": "pa8siTYpM_qg",
        "outputId": "a29b50eb-9d3e-4ae2-cc47-b6be38456e7a"
      },
      "outputs": [
        {
          "output_type": "execute_result",
          "data": {
            "text/html": [
              "<div>\n",
              "<style scoped>\n",
              "    .dataframe tbody tr th:only-of-type {\n",
              "        vertical-align: middle;\n",
              "    }\n",
              "\n",
              "    .dataframe tbody tr th {\n",
              "        vertical-align: top;\n",
              "    }\n",
              "\n",
              "    .dataframe thead th {\n",
              "        text-align: right;\n",
              "    }\n",
              "</style>\n",
              "<table border=\"1\" class=\"dataframe\">\n",
              "  <thead>\n",
              "    <tr style=\"text-align: right;\">\n",
              "      <th></th>\n",
              "      <th>alt</th>\n",
              "      <th>sponsor</th>\n",
              "      <th>race</th>\n",
              "      <th>affiliation</th>\n",
              "      <th>tone</th>\n",
              "      <th>MUSIC0</th>\n",
              "      <th>MUSIC1</th>\n",
              "      <th>MUSIC2</th>\n",
              "      <th>MUSIC3</th>\n",
              "      <th>MUSIC90</th>\n",
              "      <th>url</th>\n",
              "    </tr>\n",
              "  </thead>\n",
              "  <tbody>\n",
              "    <tr>\n",
              "      <th>0</th>\n",
              "      <td>GOV_AL_WILSON_BUSINESS_MAN_AND_HUMBLE_SERVANT</td>\n",
              "      <td>WILSON, ALBERT</td>\n",
              "      <td>GOVERNOR</td>\n",
              "      <td>DEMOCRAT</td>\n",
              "      <td>POSITIVE</td>\n",
              "      <td>1</td>\n",
              "      <td>0</td>\n",
              "      <td>0</td>\n",
              "      <td>0</td>\n",
              "      <td>0</td>\n",
              "      <td>https://wesmedia.wesleyan.edu/2020Ads/GOV_AL_W...</td>\n",
              "    </tr>\n",
              "    <tr>\n",
              "      <th>1</th>\n",
              "      <td>GOV_DE_CTI_CRONIES</td>\n",
              "      <td>CITIZENS FOR TRANSPARENCY AND INCLUSION</td>\n",
              "      <td>GOVERNOR</td>\n",
              "      <td>DEMOCRAT</td>\n",
              "      <td>NEGATIVE</td>\n",
              "      <td>0</td>\n",
              "      <td>0</td>\n",
              "      <td>0</td>\n",
              "      <td>1</td>\n",
              "      <td>0</td>\n",
              "      <td>https://wesmedia.wesleyan.edu/2020Ads/GOV_DE_C...</td>\n",
              "    </tr>\n",
              "    <tr>\n",
              "      <th>2</th>\n",
              "      <td>GOV_DE_CTI_UP_TO_US_60</td>\n",
              "      <td>CITIZENS FOR TRANSPARENCY AND INCLUSION</td>\n",
              "      <td>GOVERNOR</td>\n",
              "      <td>DEMOCRAT</td>\n",
              "      <td>NEGATIVE</td>\n",
              "      <td>0</td>\n",
              "      <td>0</td>\n",
              "      <td>0</td>\n",
              "      <td>1</td>\n",
              "      <td>0</td>\n",
              "      <td>https://wesmedia.wesleyan.edu/2020Ads/GOV_DE_C...</td>\n",
              "    </tr>\n",
              "    <tr>\n",
              "      <th>3</th>\n",
              "      <td>GOV_DE_CTI_WHITMER_PLOT</td>\n",
              "      <td>CITIZENS FOR TRANSPARENCY AND INCLUSION</td>\n",
              "      <td>GOVERNOR</td>\n",
              "      <td>DEMOCRAT</td>\n",
              "      <td>NEGATIVE</td>\n",
              "      <td>0</td>\n",
              "      <td>1</td>\n",
              "      <td>0</td>\n",
              "      <td>0</td>\n",
              "      <td>0</td>\n",
              "      <td>https://wesmedia.wesleyan.edu/2020Ads/GOV_DE_C...</td>\n",
              "    </tr>\n",
              "    <tr>\n",
              "      <th>4</th>\n",
              "      <td>GOV_DE_CTI_WHITMER_PLOT_2</td>\n",
              "      <td>CITIZENS FOR TRANSPARENCY AND INCLUSION</td>\n",
              "      <td>GOVERNOR</td>\n",
              "      <td>DEMOCRAT</td>\n",
              "      <td>NEGATIVE</td>\n",
              "      <td>0</td>\n",
              "      <td>1</td>\n",
              "      <td>0</td>\n",
              "      <td>0</td>\n",
              "      <td>0</td>\n",
              "      <td>https://wesmedia.wesleyan.edu/2020Ads/GOV_DE_C...</td>\n",
              "    </tr>\n",
              "  </tbody>\n",
              "</table>\n",
              "</div>"
            ],
            "text/plain": [
              "                                             alt  ...                                                url\n",
              "0  GOV_AL_WILSON_BUSINESS_MAN_AND_HUMBLE_SERVANT  ...  https://wesmedia.wesleyan.edu/2020Ads/GOV_AL_W...\n",
              "1                             GOV_DE_CTI_CRONIES  ...  https://wesmedia.wesleyan.edu/2020Ads/GOV_DE_C...\n",
              "2                         GOV_DE_CTI_UP_TO_US_60  ...  https://wesmedia.wesleyan.edu/2020Ads/GOV_DE_C...\n",
              "3                        GOV_DE_CTI_WHITMER_PLOT  ...  https://wesmedia.wesleyan.edu/2020Ads/GOV_DE_C...\n",
              "4                      GOV_DE_CTI_WHITMER_PLOT_2  ...  https://wesmedia.wesleyan.edu/2020Ads/GOV_DE_C...\n",
              "\n",
              "[5 rows x 11 columns]"
            ]
          },
          "metadata": {},
          "execution_count": 4
        }
      ],
      "source": [
        "df_music = pd.read_csv(\"/content/drive/MyDrive/Colab '22 - Plante/music_labels.csv\")\n",
        "df_music.head()"
      ]
    },
    {
      "cell_type": "code",
      "execution_count": 5,
      "metadata": {
        "colab": {
          "base_uri": "https://localhost:8080/"
        },
        "id": "10BV5wBXNq0t",
        "outputId": "466a91b3-b5b9-4581-8a2a-1f7c83ac04b3"
      },
      "outputs": [
        {
          "output_type": "stream",
          "name": "stderr",
          "text": [
            "100%|██████████| 7357/7357 [29:03<00:00,  4.22it/s]\n"
          ]
        }
      ],
      "source": [
        "import random\n",
        "from tqdm import tqdm\n",
        "output_files = os.listdir(\"/content/drive/MyDrive/Colab '22 - Plante/output\")\n",
        "output_files = random.sample(output_files, 1000)\n",
        "features = []\n",
        "ad_names = []\n",
        "ominous = []\n",
        "uplifting = []\n",
        "sad = []\n",
        "other = []\n",
        "\n",
        "for i in tqdm(range(len(df_music))):\n",
        "  if df_music['alt'][i] in output_files:\n",
        "    y, sr = librosa.load(\"/content/drive/MyDrive/Colab '22 - Plante/output/\" + df_music['alt'][i] + \"/accompaniment.wav\", \n",
        "                         duration = 30)\n",
        "    features.append(extract_features(y))\n",
        "    ad_names.append(df_music['alt'][i])\n",
        "    ominous.append(df_music['MUSIC1'][i])\n",
        "    uplifting.append(df_music['MUSIC2'][i])\n",
        "    sad.append(df_music['MUSIC3'][i])\n",
        "    other.append(df_music['MUSIC90'][i])\n",
        "\n",
        "np.concatenate(features, axis = 0)\n",
        "dataset = pd.DataFrame({'Ad Name' : ad_names , 'Ominous-Tense': ominous, 'Uplifting' : uplifting, \n",
        "                        'Sad-Sorrowful' : sad, 'Other' : other, \n",
        "                        'Features' : features})\n",
        "dataset.to_pickle('dataset.pkl')\n",
        "\n"
      ]
    },
    {
      "cell_type": "code",
      "execution_count": 6,
      "metadata": {
        "colab": {
          "base_uri": "https://localhost:8080/"
        },
        "id": "ARYLWpfpX57Q",
        "outputId": "27266cec-d693-465c-b1ab-7d2cfb19fac7"
      },
      "outputs": [
        {
          "output_type": "execute_result",
          "data": {
            "text/plain": [
              "(999, 6)"
            ]
          },
          "metadata": {},
          "execution_count": 6
        }
      ],
      "source": [
        "dataset.shape"
      ]
    },
    {
      "cell_type": "code",
      "execution_count": 7,
      "metadata": {
        "colab": {
          "base_uri": "https://localhost:8080/",
          "height": 206
        },
        "id": "8x2Vi7_xm8el",
        "outputId": "32579a2e-dc56-48d5-c4c8-4d2f6e9be266"
      },
      "outputs": [
        {
          "output_type": "execute_result",
          "data": {
            "text/html": [
              "<div>\n",
              "<style scoped>\n",
              "    .dataframe tbody tr th:only-of-type {\n",
              "        vertical-align: middle;\n",
              "    }\n",
              "\n",
              "    .dataframe tbody tr th {\n",
              "        vertical-align: top;\n",
              "    }\n",
              "\n",
              "    .dataframe thead th {\n",
              "        text-align: right;\n",
              "    }\n",
              "</style>\n",
              "<table border=\"1\" class=\"dataframe\">\n",
              "  <thead>\n",
              "    <tr style=\"text-align: right;\">\n",
              "      <th></th>\n",
              "      <th>Ad Name</th>\n",
              "      <th>Ominous-Tense</th>\n",
              "      <th>Uplifting</th>\n",
              "      <th>Sad-Sorrowful</th>\n",
              "      <th>Other</th>\n",
              "      <th>Features</th>\n",
              "    </tr>\n",
              "  </thead>\n",
              "  <tbody>\n",
              "    <tr>\n",
              "      <th>0</th>\n",
              "      <td>GOV_DE_CTI_CRONIES</td>\n",
              "      <td>0</td>\n",
              "      <td>0</td>\n",
              "      <td>1</td>\n",
              "      <td>0</td>\n",
              "      <td>[[[0.0, 0.0, 0.0], [0.0, 0.0, 0.0], [0.0, 0.0,...</td>\n",
              "    </tr>\n",
              "    <tr>\n",
              "      <th>1</th>\n",
              "      <td>GOV_KY_ADKINS_BLUEGRASS</td>\n",
              "      <td>0</td>\n",
              "      <td>1</td>\n",
              "      <td>0</td>\n",
              "      <td>0</td>\n",
              "      <td>[[[0.0, 0.0, 0.0], [0.0, 0.0, 0.0], [0.0, 0.0,...</td>\n",
              "    </tr>\n",
              "    <tr>\n",
              "      <th>2</th>\n",
              "      <td>GOV_KY_BESHEAR_IN_HIS_OWN_WORDS_15</td>\n",
              "      <td>1</td>\n",
              "      <td>0</td>\n",
              "      <td>0</td>\n",
              "      <td>0</td>\n",
              "      <td>[[[0.0, 0.0, 0.0], [0.0, 0.0, 0.0], [0.0, 0.0,...</td>\n",
              "    </tr>\n",
              "    <tr>\n",
              "      <th>3</th>\n",
              "      <td>GOV_KY_BEVIN_FORWARD</td>\n",
              "      <td>1</td>\n",
              "      <td>1</td>\n",
              "      <td>0</td>\n",
              "      <td>0</td>\n",
              "      <td>[[[0.0, 0.0, 0.0], [0.0, 0.0, 0.0], [0.0, 0.0,...</td>\n",
              "    </tr>\n",
              "    <tr>\n",
              "      <th>4</th>\n",
              "      <td>GOV_KY_BEVIN_TRUMP_ENDORSEMENT</td>\n",
              "      <td>0</td>\n",
              "      <td>1</td>\n",
              "      <td>0</td>\n",
              "      <td>0</td>\n",
              "      <td>[[[0.0, 0.0, 0.0], [0.0, 0.0, 0.0], [0.0, 0.0,...</td>\n",
              "    </tr>\n",
              "  </tbody>\n",
              "</table>\n",
              "</div>"
            ],
            "text/plain": [
              "                              Ad Name  ...                                           Features\n",
              "0                  GOV_DE_CTI_CRONIES  ...  [[[0.0, 0.0, 0.0], [0.0, 0.0, 0.0], [0.0, 0.0,...\n",
              "1             GOV_KY_ADKINS_BLUEGRASS  ...  [[[0.0, 0.0, 0.0], [0.0, 0.0, 0.0], [0.0, 0.0,...\n",
              "2  GOV_KY_BESHEAR_IN_HIS_OWN_WORDS_15  ...  [[[0.0, 0.0, 0.0], [0.0, 0.0, 0.0], [0.0, 0.0,...\n",
              "3                GOV_KY_BEVIN_FORWARD  ...  [[[0.0, 0.0, 0.0], [0.0, 0.0, 0.0], [0.0, 0.0,...\n",
              "4      GOV_KY_BEVIN_TRUMP_ENDORSEMENT  ...  [[[0.0, 0.0, 0.0], [0.0, 0.0, 0.0], [0.0, 0.0,...\n",
              "\n",
              "[5 rows x 6 columns]"
            ]
          },
          "metadata": {},
          "execution_count": 7
        }
      ],
      "source": [
        "dataset.head()"
      ]
    },
    {
      "cell_type": "markdown",
      "metadata": {
        "id": "1HuMhPtpRmQl"
      },
      "source": [
        "Performing Train-Test Split"
      ]
    },
    {
      "cell_type": "code",
      "execution_count": 8,
      "metadata": {
        "id": "qJXS1Bgqncp2"
      },
      "outputs": [],
      "source": [
        "X = np.array(features)\n",
        "y = dataset[['Ominous-Tense', 'Uplifting', 'Sad-Sorrowful', 'Other']].values\n",
        "\n",
        "X_train, X_test, y_train, y_test = train_test_split(X, y, test_size = .25, random_state= 0, shuffle=True)"
      ]
    },
    {
      "cell_type": "code",
      "execution_count": 9,
      "metadata": {
        "colab": {
          "base_uri": "https://localhost:8080/"
        },
        "id": "bAzr_sDYnTxz",
        "outputId": "d53aed4d-7421-45cf-c30d-6770710aa453"
      },
      "outputs": [
        {
          "output_type": "stream",
          "name": "stdout",
          "text": [
            "(561, 128, 1500, 3) (250, 128, 1500, 3) (188, 128, 1500, 3) 561 250 188\n"
          ]
        }
      ],
      "source": [
        "X_train, X_val, y_train, y_val = train_test_split(X_train, y_train, test_size=0.25, random_state=123)\n",
        "print(X_train.shape, X_test.shape, X_val.shape, len(y_train), len(y_test), len(y_val))"
      ]
    },
    {
      "cell_type": "code",
      "execution_count": 10,
      "metadata": {
        "id": "TNEYh4Dhnp94"
      },
      "outputs": [],
      "source": [
        "X_train = np.array(X_train)"
      ]
    },
    {
      "cell_type": "code",
      "execution_count": 11,
      "metadata": {
        "id": "NqTdHnmDqTXf"
      },
      "outputs": [],
      "source": [
        "X_train = np.array((X_train-np.min(X_train))/(np.max(X_train)-np.min(X_train)))\n",
        "X_test = np.array((X_test-np.min(X_test))/(np.max(X_test)-np.min(X_test)))\n",
        "X_train = X_train/np.std(X_train)\n",
        "X_test = X_test/np.std(X_test)\n",
        "y_train = np.array(y_train)\n",
        "y_test = np.array(y_test)"
      ]
    },
    {
      "cell_type": "markdown",
      "metadata": {
        "id": "yNOZytcCGzgk"
      },
      "source": [
        "Simple CNN"
      ]
    },
    {
      "cell_type": "code",
      "execution_count": 41,
      "metadata": {
        "colab": {
          "base_uri": "https://localhost:8080/"
        },
        "id": "H858qMJSGzSQ",
        "outputId": "08dff90e-c3e6-46bc-8f41-9f0cc0539118"
      },
      "outputs": [
        {
          "output_type": "stream",
          "name": "stdout",
          "text": [
            "Model: \"sequential_4\"\n",
            "_________________________________________________________________\n",
            " Layer (type)                Output Shape              Param #   \n",
            "=================================================================\n",
            " conv2d_12 (Conv2D)          (None, 126, 1498, 32)     896       \n",
            "                                                                 \n",
            " max_pooling2d_8 (MaxPooling  (None, 63, 749, 32)      0         \n",
            " 2D)                                                             \n",
            "                                                                 \n",
            " dropout_12 (Dropout)        (None, 63, 749, 32)       0         \n",
            "                                                                 \n",
            " conv2d_13 (Conv2D)          (None, 61, 747, 64)       18496     \n",
            "                                                                 \n",
            " max_pooling2d_9 (MaxPooling  (None, 30, 373, 64)      0         \n",
            " 2D)                                                             \n",
            "                                                                 \n",
            " dropout_13 (Dropout)        (None, 30, 373, 64)       0         \n",
            "                                                                 \n",
            " conv2d_14 (Conv2D)          (None, 28, 371, 64)       36928     \n",
            "                                                                 \n",
            " flatten_4 (Flatten)         (None, 664832)            0         \n",
            "                                                                 \n",
            " dense_12 (Dense)            (None, 64)                42549312  \n",
            "                                                                 \n",
            " dropout_14 (Dropout)        (None, 64)                0         \n",
            "                                                                 \n",
            " dense_13 (Dense)            (None, 32)                2080      \n",
            "                                                                 \n",
            " dense_14 (Dense)            (None, 4)                 132       \n",
            "                                                                 \n",
            "=================================================================\n",
            "Total params: 42,607,844\n",
            "Trainable params: 42,607,844\n",
            "Non-trainable params: 0\n",
            "_________________________________________________________________\n"
          ]
        }
      ],
      "source": [
        "input_shape=(128,1500,3)\n",
        "CNNmodel = models.Sequential()\n",
        "CNNmodel.add(layers.Conv2D(32, (3, 3), activation='relu', input_shape=input_shape))\n",
        "CNNmodel.add(layers.MaxPooling2D((2, 2)))\n",
        "CNNmodel.add(layers.Dropout(0.2))\n",
        "CNNmodel.add(layers.Conv2D(64, (3, 3), activation='relu'))\n",
        "CNNmodel.add(layers.MaxPooling2D((2, 2)))\n",
        "CNNmodel.add(layers.Dropout(0.2))\n",
        "CNNmodel.add(layers.Conv2D(64, (3, 3), activation='relu'))\n",
        "CNNmodel.add(layers.Flatten())\n",
        "CNNmodel.add(layers.Dense(64, activation='relu'))\n",
        "CNNmodel.add(layers.Dropout(0.2))\n",
        "CNNmodel.add(layers.Dense(32, activation='relu'))\n",
        "CNNmodel.add(layers.Dense(4, activation= 'sigmoid'))\n",
        "CNNmodel.summary()"
      ]
    },
    {
      "cell_type": "markdown",
      "metadata": {
        "id": "IRX_-Z75U14j"
      },
      "source": [
        "Compile the Model"
      ]
    },
    {
      "cell_type": "code",
      "execution_count": 42,
      "metadata": {
        "id": "CtacHSdyU1hM"
      },
      "outputs": [],
      "source": [
        "CNNmodel.compile(optimizer='adam',loss=tf.keras.losses.BinaryCrossentropy(from_logits=False),metrics=['accuracy'])"
      ]
    },
    {
      "cell_type": "markdown",
      "metadata": {
        "id": "D_6MvTUUVVT8"
      },
      "source": [
        "Fit the Model"
      ]
    },
    {
      "cell_type": "code",
      "execution_count": 43,
      "metadata": {
        "colab": {
          "base_uri": "https://localhost:8080/"
        },
        "id": "OainCWPpVZcO",
        "outputId": "f017c162-5041-4804-9fd4-dc18e653d490"
      },
      "outputs": [
        {
          "output_type": "stream",
          "name": "stdout",
          "text": [
            "Epoch 1/20\n",
            "18/18 [==============================] - 3s 159ms/step - loss: 942.2789 - accuracy: 0.4189 - val_loss: 0.6898 - val_accuracy: 0.5106\n",
            "Epoch 2/20\n",
            "18/18 [==============================] - 2s 123ms/step - loss: 0.6160 - accuracy: 0.3939 - val_loss: 0.6804 - val_accuracy: 0.5160\n",
            "Epoch 3/20\n",
            "18/18 [==============================] - 2s 123ms/step - loss: 0.5706 - accuracy: 0.4688 - val_loss: 0.6689 - val_accuracy: 0.5106\n",
            "Epoch 4/20\n",
            "18/18 [==============================] - 2s 124ms/step - loss: 0.5475 - accuracy: 0.4563 - val_loss: 0.6588 - val_accuracy: 0.5106\n",
            "Epoch 5/20\n",
            "18/18 [==============================] - 2s 124ms/step - loss: 0.5628 - accuracy: 0.4670 - val_loss: 0.6492 - val_accuracy: 0.5106\n",
            "Epoch 6/20\n",
            "18/18 [==============================] - 2s 123ms/step - loss: 0.5534 - accuracy: 0.4528 - val_loss: 0.6400 - val_accuracy: 0.5106\n",
            "Epoch 7/20\n",
            "18/18 [==============================] - 2s 125ms/step - loss: 0.5332 - accuracy: 0.4688 - val_loss: 0.6326 - val_accuracy: 0.5106\n",
            "Epoch 8/20\n",
            "18/18 [==============================] - 2s 124ms/step - loss: 0.5624 - accuracy: 0.4510 - val_loss: 0.6237 - val_accuracy: 0.5106\n",
            "Epoch 9/20\n",
            "18/18 [==============================] - 2s 123ms/step - loss: 0.5406 - accuracy: 0.4795 - val_loss: 0.6131 - val_accuracy: 0.5106\n",
            "Epoch 10/20\n",
            "18/18 [==============================] - 2s 122ms/step - loss: 0.5286 - accuracy: 0.4902 - val_loss: 0.6053 - val_accuracy: 0.5106\n",
            "Epoch 11/20\n",
            "18/18 [==============================] - 2s 124ms/step - loss: 0.5199 - accuracy: 0.4545 - val_loss: 0.5981 - val_accuracy: 0.5106\n",
            "Epoch 12/20\n",
            "18/18 [==============================] - 2s 125ms/step - loss: 0.5097 - accuracy: 0.4617 - val_loss: 0.5915 - val_accuracy: 0.5106\n",
            "Epoch 13/20\n",
            "18/18 [==============================] - 2s 123ms/step - loss: 0.5136 - accuracy: 0.4670 - val_loss: 0.5851 - val_accuracy: 0.5106\n",
            "Epoch 14/20\n",
            "18/18 [==============================] - 2s 124ms/step - loss: 0.5068 - accuracy: 0.4528 - val_loss: 0.5786 - val_accuracy: 0.5106\n",
            "Epoch 15/20\n",
            "18/18 [==============================] - 2s 121ms/step - loss: 0.5088 - accuracy: 0.4795 - val_loss: 0.5723 - val_accuracy: 0.5106\n",
            "Epoch 16/20\n",
            "18/18 [==============================] - 2s 124ms/step - loss: 0.5183 - accuracy: 0.4349 - val_loss: 0.5623 - val_accuracy: 0.5106\n",
            "Epoch 17/20\n",
            "18/18 [==============================] - 2s 124ms/step - loss: 0.4993 - accuracy: 0.4706 - val_loss: 0.5548 - val_accuracy: 0.5106\n",
            "Epoch 18/20\n",
            "18/18 [==============================] - 2s 126ms/step - loss: 0.5209 - accuracy: 0.4991 - val_loss: 0.5399 - val_accuracy: 0.5106\n",
            "Epoch 19/20\n",
            "18/18 [==============================] - 2s 123ms/step - loss: 0.4969 - accuracy: 0.4724 - val_loss: 0.5316 - val_accuracy: 0.5106\n",
            "Epoch 20/20\n",
            "18/18 [==============================] - 2s 121ms/step - loss: 0.4937 - accuracy: 0.4617 - val_loss: 0.5263 - val_accuracy: 0.5106\n"
          ]
        }
      ],
      "source": [
        "history = CNNmodel.fit(X_train, y_train, epochs=20, validation_data= (X_val, y_val))"
      ]
    },
    {
      "cell_type": "markdown",
      "metadata": {
        "id": "p8QhuWOgVime"
      },
      "source": [
        "Evaluate the Model"
      ]
    },
    {
      "cell_type": "code",
      "execution_count": 44,
      "metadata": {
        "colab": {
          "base_uri": "https://localhost:8080/",
          "height": 350
        },
        "id": "0RrjRQAUVheM",
        "outputId": "95ca8803-f99e-467e-aa3b-ff1e9b2c593c"
      },
      "outputs": [
        {
          "output_type": "display_data",
          "data": {
            "image/png": "[encoded data removed]",
            "text/plain": [
              "<Figure size 1080x360 with 2 Axes>"
            ]
          },
          "metadata": {
            "needs_background": "light"
          }
        }
      ],
      "source": [
        "#Adapted from Deep Learning with Python by Francois Chollet, 2018\n",
        "history_dict=history.history\n",
        "loss_values=history_dict['loss']\n",
        "acc_values=history_dict['accuracy']\n",
        "val_loss_values = history_dict['val_loss']\n",
        "val_acc_values=history_dict['val_accuracy']\n",
        "epochs=range(1,21)\n",
        "fig,(ax1,ax2)=plt.subplots(1,2,figsize=(15,5))\n",
        "ax1.plot(epochs,loss_values,'bo',label='Training Loss')\n",
        "ax1.plot(epochs,val_loss_values,'orange', label='Validation Loss')\n",
        "ax1.set_title('Training and validation loss')\n",
        "ax1.set_xlabel('Epochs')\n",
        "ax1.set_ylabel('Loss')\n",
        "ax1.legend()\n",
        "ax2.plot(epochs,acc_values,'bo', label='Training accuracy')\n",
        "ax2.plot(epochs,val_acc_values,'orange',label='Validation accuracy')\n",
        "ax2.set_title('Training and validation accuracy')\n",
        "ax2.set_xlabel('Epochs')\n",
        "ax2.set_ylabel('Accuracy')\n",
        "ax2.legend()\n",
        "plt.show()\n"
      ]
    },
    {
      "cell_type": "code",
      "source": [
        "predictions = CNNmodel.predict(X_test)"
      ],
      "metadata": {
        "id": "IeJVMx12ECWi"
      },
      "execution_count": 39,
      "outputs": []
    },
    {
      "cell_type": "code",
      "source": [
        "print(\"Evaluate on test data\")\n",
        "results = CNNmodel.evaluate(X_test, y_test, batch_size=128)\n",
        "print(\"test loss, test acc:\", results)"
      ],
      "metadata": {
        "id": "2ms0YJDDEKaJ",
        "outputId": "7781cded-589c-47c7-a9ff-d34ceecb4e80",
        "colab": {
          "base_uri": "https://localhost:8080/"
        }
      },
      "execution_count": 47,
      "outputs": [
        {
          "output_type": "stream",
          "name": "stdout",
          "text": [
            "Evaluate on test data\n",
            "2/2 [==============================] - 2s 823ms/step - loss: 0.5313 - accuracy: 0.4680\n",
            "test loss, test acc: [0.5313069820404053, 0.46799999475479126]\n"
          ]
        }
      ]
    }
  ],
  "metadata": {
    "accelerator": "GPU",
    "colab": {
      "collapsed_sections": [],
      "name": "cnn_version1.ipynb",
      "provenance": [],
      "machine_shape": "hm",
      "mount_file_id": "1GGdOaevDpZGrk5NjT4ExtGemXx0zqzaa",
      "authorship_tag": "ABX9TyOr97z06ExhrDuq2Ay5gCtv",
      "include_colab_link": true
    },
    "kernelspec": {
      "display_name": "Python 3",
      "name": "python3"
    },
    "language_info": {
      "name": "python"
    }
  },
  "nbformat": 4,
  "nbformat_minor": 0
}
