{
  "cells": [
    {
      "cell_type": "markdown",
      "metadata": {
        "id": "view-in-github",
        "colab_type": "text"
      },
      "source": [
        "<a href=\"https://colab.research.google.com/github/trey3p/emotion-music/blob/main/cnn_version1.ipynb\" target=\"_parent\"><img src=\"https://colab.research.google.com/assets/colab-badge.svg\" alt=\"Open In Colab\"/></a>"
      ]
    },
    {
      "cell_type": "markdown",
      "metadata": {
        "id": "6lzFJ29IuXD9"
      },
      "source": [
        "Mounting GDrive\n"
      ]
    },
    {
      "cell_type": "code",
      "execution_count": 3,
      "metadata": {
        "colab": {
          "base_uri": "https://localhost:8080/"
        },
        "id": "ZayeNRHRsRmg",
        "outputId": "adb35ec5-81ee-40a0-ba7f-df1bc38a7525"
      },
      "outputs": [
        {
          "output_type": "stream",
          "name": "stdout",
          "text": [
            "Drive already mounted at /content/drive; to attempt to forcibly remount, call drive.mount(\"/content/drive\", force_remount=True).\n"
          ]
        }
      ],
      "source": [
        "from google.colab import drive\n",
        "drive.mount('/content/drive')"
      ]
    },
    {
      "cell_type": "markdown",
      "metadata": {
        "id": "z0RUUlpmuaNE"
      },
      "source": [
        "Extracting Features"
      ]
    },
    {
      "cell_type": "code",
      "execution_count": 2,
      "metadata": {
        "id": "PaC3E4ahLWlx"
      },
      "outputs": [],
      "source": [
        "import pandas as pd\n",
        "import os\n",
        "import librosa\n",
        "import librosa.display\n",
        "import matplotlib.pyplot as plt\n",
        "from sklearn.preprocessing import normalize\n",
        "\n",
        "import numpy as np\n",
        "import pickle\n",
        "import joblib\n",
        "from sklearn.model_selection import train_test_split\n",
        "from tensorflow.keras import models, layers\n",
        "import tensorflow as tf"
      ]
    },
    {
      "cell_type": "code",
      "execution_count": 8,
      "metadata": {
        "id": "oUmE7WY-073l"
      },
      "outputs": [],
      "source": [
        "\n",
        "\n",
        "def padding(array, xx, yy):\n",
        "  #Takes numpy array, desired height, and width and pads the array.\n",
        "\n",
        "  h = array.shape[0]\n",
        "  w = array.shape[1]\n",
        "\n",
        "  a = max((xx - h) // 2,0)\n",
        "  aa = max(0,xx - a - h)\n",
        "\n",
        "  b = max(0,(yy - w) // 2)\n",
        "  bb = max(yy - b - w,0)\n",
        "\n",
        "  return np.pad(array, pad_width=((a, aa), (b, bb)), mode='constant')\n",
        "\n",
        "def extract_features(y):\n",
        "  max_size = 1500 #Max audio file width\n",
        "\n",
        "  #Getting short-time Fourier transform and padding\n",
        "  stft = padding(np.abs(librosa.stft(y, n_fft = 225, hop_length = 512)), 128, max_size)\n",
        "\n",
        "  #Getting MFCCs and padding\n",
        "  mfccs = padding(librosa.feature.mfcc(y, n_fft = 225, hop_length = 512, \n",
        "                                       n_mfcc = 225, S = np.abs(stft)**2), 128, max_size)\n",
        "  \n",
        "  #Getting the spectral centroid\n",
        "\n",
        "  spec_centroid = librosa.feature.spectral_centroid(y=y, sr=sr)\n",
        "  \n",
        "  #Getting chromagram\n",
        "  chroma_stft = librosa.feature.chroma_stft(y=y, sr=sr)\n",
        "  \n",
        "  #Getting spectral bandwith\n",
        "  spec_bw = librosa.feature.spectral_bandwidth(y=y, sr=sr)\n",
        "\n",
        "\n",
        "  #Now padding the spectral pandwith and \n",
        "  image = np.array([padding(normalize(spec_bw),1, max_size)]).reshape(1,max_size)\n",
        "  image = np.append(image,padding(normalize(spec_centroid),1, max_size), axis=0) \n",
        "\n",
        "\n",
        "  #Repeat padding for Spectral Bandwith, Spectral Centroid, Chromagram until they are the same\n",
        "  # size as MFCC and STFT  \n",
        "  for i in range(0,9):\n",
        "    image = np.append(image,padding(normalize(spec_bw),1, max_size), axis=0)\n",
        "    image = np.append(image, padding(normalize(spec_centroid),1, max_size), axis=0)\n",
        "    image = np.append(image, padding(normalize(chroma_stft),12, max_size), axis=0)\n",
        "    \n",
        "  image=np.dstack((image,np.abs(stft)))\n",
        "\n",
        "  image=np.dstack((image,mfccs))\n",
        "\n",
        "  return image\n",
        "\n"
      ]
    },
    {
      "cell_type": "markdown",
      "metadata": {
        "id": "hjtWdds5NfJT"
      },
      "source": [
        "Creating Dataset with Features"
      ]
    },
    {
      "cell_type": "code",
      "execution_count": 5,
      "metadata": {
        "colab": {
          "base_uri": "https://localhost:8080/",
          "height": 382
        },
        "id": "pa8siTYpM_qg",
        "outputId": "c7c4f9bd-34f9-4de8-b95e-829fac5626f0"
      },
      "outputs": [
        {
          "output_type": "execute_result",
          "data": {
            "text/html": [
              "<div>\n",
              "<style scoped>\n",
              "    .dataframe tbody tr th:only-of-type {\n",
              "        vertical-align: middle;\n",
              "    }\n",
              "\n",
              "    .dataframe tbody tr th {\n",
              "        vertical-align: top;\n",
              "    }\n",
              "\n",
              "    .dataframe thead th {\n",
              "        text-align: right;\n",
              "    }\n",
              "</style>\n",
              "<table border=\"1\" class=\"dataframe\">\n",
              "  <thead>\n",
              "    <tr style=\"text-align: right;\">\n",
              "      <th></th>\n",
              "      <th>alt</th>\n",
              "      <th>sponsor</th>\n",
              "      <th>race</th>\n",
              "      <th>affiliation</th>\n",
              "      <th>tone</th>\n",
              "      <th>MUSIC0</th>\n",
              "      <th>MUSIC1</th>\n",
              "      <th>MUSIC2</th>\n",
              "      <th>MUSIC3</th>\n",
              "      <th>MUSIC90</th>\n",
              "      <th>url</th>\n",
              "    </tr>\n",
              "  </thead>\n",
              "  <tbody>\n",
              "    <tr>\n",
              "      <th>0</th>\n",
              "      <td>GOV_AL_WILSON_BUSINESS_MAN_AND_HUMBLE_SERVANT</td>\n",
              "      <td>WILSON, ALBERT</td>\n",
              "      <td>GOVERNOR</td>\n",
              "      <td>DEMOCRAT</td>\n",
              "      <td>POSITIVE</td>\n",
              "      <td>1</td>\n",
              "      <td>0</td>\n",
              "      <td>0</td>\n",
              "      <td>0</td>\n",
              "      <td>0</td>\n",
              "      <td>https://wesmedia.wesleyan.edu/2020Ads/GOV_AL_W...</td>\n",
              "    </tr>\n",
              "    <tr>\n",
              "      <th>1</th>\n",
              "      <td>GOV_DE_CTI_CRONIES</td>\n",
              "      <td>CITIZENS FOR TRANSPARENCY AND INCLUSION</td>\n",
              "      <td>GOVERNOR</td>\n",
              "      <td>DEMOCRAT</td>\n",
              "      <td>NEGATIVE</td>\n",
              "      <td>0</td>\n",
              "      <td>0</td>\n",
              "      <td>0</td>\n",
              "      <td>1</td>\n",
              "      <td>0</td>\n",
              "      <td>https://wesmedia.wesleyan.edu/2020Ads/GOV_DE_C...</td>\n",
              "    </tr>\n",
              "    <tr>\n",
              "      <th>2</th>\n",
              "      <td>GOV_DE_CTI_UP_TO_US_60</td>\n",
              "      <td>CITIZENS FOR TRANSPARENCY AND INCLUSION</td>\n",
              "      <td>GOVERNOR</td>\n",
              "      <td>DEMOCRAT</td>\n",
              "      <td>NEGATIVE</td>\n",
              "      <td>0</td>\n",
              "      <td>0</td>\n",
              "      <td>0</td>\n",
              "      <td>1</td>\n",
              "      <td>0</td>\n",
              "      <td>https://wesmedia.wesleyan.edu/2020Ads/GOV_DE_C...</td>\n",
              "    </tr>\n",
              "    <tr>\n",
              "      <th>3</th>\n",
              "      <td>GOV_DE_CTI_WHITMER_PLOT</td>\n",
              "      <td>CITIZENS FOR TRANSPARENCY AND INCLUSION</td>\n",
              "      <td>GOVERNOR</td>\n",
              "      <td>DEMOCRAT</td>\n",
              "      <td>NEGATIVE</td>\n",
              "      <td>0</td>\n",
              "      <td>1</td>\n",
              "      <td>0</td>\n",
              "      <td>0</td>\n",
              "      <td>0</td>\n",
              "      <td>https://wesmedia.wesleyan.edu/2020Ads/GOV_DE_C...</td>\n",
              "    </tr>\n",
              "    <tr>\n",
              "      <th>4</th>\n",
              "      <td>GOV_DE_CTI_WHITMER_PLOT_2</td>\n",
              "      <td>CITIZENS FOR TRANSPARENCY AND INCLUSION</td>\n",
              "      <td>GOVERNOR</td>\n",
              "      <td>DEMOCRAT</td>\n",
              "      <td>NEGATIVE</td>\n",
              "      <td>0</td>\n",
              "      <td>1</td>\n",
              "      <td>0</td>\n",
              "      <td>0</td>\n",
              "      <td>0</td>\n",
              "      <td>https://wesmedia.wesleyan.edu/2020Ads/GOV_DE_C...</td>\n",
              "    </tr>\n",
              "  </tbody>\n",
              "</table>\n",
              "</div>"
            ],
            "text/plain": [
              "                                             alt  ...                                                url\n",
              "0  GOV_AL_WILSON_BUSINESS_MAN_AND_HUMBLE_SERVANT  ...  https://wesmedia.wesleyan.edu/2020Ads/GOV_AL_W...\n",
              "1                             GOV_DE_CTI_CRONIES  ...  https://wesmedia.wesleyan.edu/2020Ads/GOV_DE_C...\n",
              "2                         GOV_DE_CTI_UP_TO_US_60  ...  https://wesmedia.wesleyan.edu/2020Ads/GOV_DE_C...\n",
              "3                        GOV_DE_CTI_WHITMER_PLOT  ...  https://wesmedia.wesleyan.edu/2020Ads/GOV_DE_C...\n",
              "4                      GOV_DE_CTI_WHITMER_PLOT_2  ...  https://wesmedia.wesleyan.edu/2020Ads/GOV_DE_C...\n",
              "\n",
              "[5 rows x 11 columns]"
            ]
          },
          "metadata": {},
          "execution_count": 5
        }
      ],
      "source": [
        "df_music = pd.read_csv(\"/content/drive/MyDrive/Colab '22 - Plante/music_labels.csv\")\n",
        "df_music.head()"
      ]
    },
    {
      "cell_type": "code",
      "execution_count": 9,
      "metadata": {
        "colab": {
          "base_uri": "https://localhost:8080/"
        },
        "id": "10BV5wBXNq0t",
        "outputId": "686bf4cc-9e2e-4cca-b1cb-ab07a96316d0"
      },
      "outputs": [
        {
          "output_type": "stream",
          "name": "stderr",
          "text": [
            "100%|██████████| 7357/7357 [16:28<00:00,  7.44it/s]\n"
          ]
        }
      ],
      "source": [
        "import random\n",
        "from tqdm import tqdm\n",
        "output_files = os.listdir(\"/content/drive/MyDrive/Colab '22 - Plante/output\")\n",
        "output_files = random.sample(output_files, 500)\n",
        "features = []\n",
        "ad_names = []\n",
        "ominous = []\n",
        "uplifting = []\n",
        "sad = []\n",
        "other = []\n",
        "\n",
        "for i in tqdm(range(len(df_music))):\n",
        "  if df_music['alt'][i] in output_files:\n",
        "    y, sr = librosa.load(\"/content/drive/MyDrive/Colab '22 - Plante/output/\" + df_music['alt'][i] + \"/accompaniment.wav\", \n",
        "                         duration = 30)\n",
        "    features.append(extract_features(y))\n",
        "    ad_names.append(df_music['alt'][i])\n",
        "    ominous.append(df_music['MUSIC1'][i])\n",
        "    uplifting.append(df_music['MUSIC2'][i])\n",
        "    sad.append(df_music['MUSIC3'][i])\n",
        "    other.append(df_music['MUSIC90'][i])\n",
        "\n",
        "np.concatenate(features, axis = 0)\n",
        "dataset = pd.DataFrame({'Ad Name' : ad_names , 'Ominous-Tense': ominous, 'Uplifting' : uplifting, \n",
        "                        'Sad-Sorrowful' : sad, 'Other' : other, \n",
        "                        'Features' : features})\n",
        "dataset.to_pickle('dataset.pkl')\n",
        "\n"
      ]
    },
    {
      "cell_type": "code",
      "execution_count": 10,
      "metadata": {
        "colab": {
          "base_uri": "https://localhost:8080/"
        },
        "id": "ARYLWpfpX57Q",
        "outputId": "6fd9b548-3f23-4fd7-ebea-5f1c1822e694"
      },
      "outputs": [
        {
          "output_type": "execute_result",
          "data": {
            "text/plain": [
              "(500, 6)"
            ]
          },
          "metadata": {},
          "execution_count": 10
        }
      ],
      "source": [
        "dataset.shape"
      ]
    },
    {
      "cell_type": "code",
      "execution_count": 11,
      "metadata": {
        "colab": {
          "base_uri": "https://localhost:8080/",
          "height": 206
        },
        "id": "8x2Vi7_xm8el",
        "outputId": "52c3329a-cf09-43a0-e086-5ff086c6e935"
      },
      "outputs": [
        {
          "output_type": "execute_result",
          "data": {
            "text/html": [
              "<div>\n",
              "<style scoped>\n",
              "    .dataframe tbody tr th:only-of-type {\n",
              "        vertical-align: middle;\n",
              "    }\n",
              "\n",
              "    .dataframe tbody tr th {\n",
              "        vertical-align: top;\n",
              "    }\n",
              "\n",
              "    .dataframe thead th {\n",
              "        text-align: right;\n",
              "    }\n",
              "</style>\n",
              "<table border=\"1\" class=\"dataframe\">\n",
              "  <thead>\n",
              "    <tr style=\"text-align: right;\">\n",
              "      <th></th>\n",
              "      <th>Ad Name</th>\n",
              "      <th>Ominous-Tense</th>\n",
              "      <th>Uplifting</th>\n",
              "      <th>Sad-Sorrowful</th>\n",
              "      <th>Other</th>\n",
              "      <th>Features</th>\n",
              "    </tr>\n",
              "  </thead>\n",
              "  <tbody>\n",
              "    <tr>\n",
              "      <th>0</th>\n",
              "      <td>GOV_IN_HOLCOMB_ELISE</td>\n",
              "      <td>0</td>\n",
              "      <td>1</td>\n",
              "      <td>0</td>\n",
              "      <td>0</td>\n",
              "      <td>[[[0.0, 0.0, 0.0], [0.0, 0.0, 0.0], [0.0, 0.0,...</td>\n",
              "    </tr>\n",
              "    <tr>\n",
              "      <th>1</th>\n",
              "      <td>GOV_KY_BEVIN_FORWARD</td>\n",
              "      <td>1</td>\n",
              "      <td>1</td>\n",
              "      <td>0</td>\n",
              "      <td>0</td>\n",
              "      <td>[[[0.0, 0.0, 0.0], [0.0, 0.0, 0.0], [0.0, 0.0,...</td>\n",
              "    </tr>\n",
              "    <tr>\n",
              "      <th>2</th>\n",
              "      <td>GOV_KY_EDELEN_RAW_DEAL</td>\n",
              "      <td>1</td>\n",
              "      <td>1</td>\n",
              "      <td>0</td>\n",
              "      <td>0</td>\n",
              "      <td>[[[0.0, 0.0, 0.0], [0.0, 0.0, 0.0], [0.0, 0.0,...</td>\n",
              "    </tr>\n",
              "    <tr>\n",
              "      <th>3</th>\n",
              "      <td>GOV_LA_EDWARDS_NOT_GOING_BACK</td>\n",
              "      <td>0</td>\n",
              "      <td>0</td>\n",
              "      <td>1</td>\n",
              "      <td>0</td>\n",
              "      <td>[[[0.0, 0.0, 0.0], [0.0, 0.0, 0.0], [0.0, 0.0,...</td>\n",
              "    </tr>\n",
              "    <tr>\n",
              "      <th>4</th>\n",
              "      <td>GOV_LA_GUMBO_THE_TRUTH</td>\n",
              "      <td>1</td>\n",
              "      <td>0</td>\n",
              "      <td>0</td>\n",
              "      <td>0</td>\n",
              "      <td>[[[0.0, 0.0, 0.0], [0.0, 0.0, 0.0], [0.0, 0.0,...</td>\n",
              "    </tr>\n",
              "  </tbody>\n",
              "</table>\n",
              "</div>"
            ],
            "text/plain": [
              "                         Ad Name  ...                                           Features\n",
              "0           GOV_IN_HOLCOMB_ELISE  ...  [[[0.0, 0.0, 0.0], [0.0, 0.0, 0.0], [0.0, 0.0,...\n",
              "1           GOV_KY_BEVIN_FORWARD  ...  [[[0.0, 0.0, 0.0], [0.0, 0.0, 0.0], [0.0, 0.0,...\n",
              "2         GOV_KY_EDELEN_RAW_DEAL  ...  [[[0.0, 0.0, 0.0], [0.0, 0.0, 0.0], [0.0, 0.0,...\n",
              "3  GOV_LA_EDWARDS_NOT_GOING_BACK  ...  [[[0.0, 0.0, 0.0], [0.0, 0.0, 0.0], [0.0, 0.0,...\n",
              "4         GOV_LA_GUMBO_THE_TRUTH  ...  [[[0.0, 0.0, 0.0], [0.0, 0.0, 0.0], [0.0, 0.0,...\n",
              "\n",
              "[5 rows x 6 columns]"
            ]
          },
          "metadata": {},
          "execution_count": 11
        }
      ],
      "source": [
        "dataset.head()"
      ]
    },
    {
      "cell_type": "markdown",
      "metadata": {
        "id": "1HuMhPtpRmQl"
      },
      "source": [
        "Performing Train-Test Split"
      ]
    },
    {
      "cell_type": "code",
      "execution_count": 12,
      "metadata": {
        "id": "qJXS1Bgqncp2"
      },
      "outputs": [],
      "source": [
        "X = np.array(features)\n",
        "y = dataset[['Ominous-Tense', 'Uplifting', 'Sad-Sorrowful', 'Other']]\n",
        "\n",
        "X_train, X_test, y_train, y_test = train_test_split(X, y, test_size = .25, random_state= 0, shuffle=True)"
      ]
    },
    {
      "cell_type": "code",
      "execution_count": 13,
      "metadata": {
        "colab": {
          "base_uri": "https://localhost:8080/"
        },
        "id": "bAzr_sDYnTxz",
        "outputId": "d8db1189-8a5f-486a-f73b-1c3acad49deb"
      },
      "outputs": [
        {
          "output_type": "stream",
          "name": "stdout",
          "text": [
            "(281, 128, 1500, 3) (125, 128, 1500, 3) (94, 128, 1500, 3) 281 125 94\n"
          ]
        }
      ],
      "source": [
        "X_train, X_val, y_train, y_val = train_test_split(X_train, y_train, test_size=0.25, random_state=123)\n",
        "print(X_train.shape, X_test.shape, X_val.shape, len(y_train), len(y_test), len(y_val))"
      ]
    },
    {
      "cell_type": "code",
      "execution_count": 14,
      "metadata": {
        "id": "TNEYh4Dhnp94"
      },
      "outputs": [],
      "source": [
        "X_train = np.array(X_train)"
      ]
    },
    {
      "cell_type": "code",
      "execution_count": 15,
      "metadata": {
        "id": "NqTdHnmDqTXf"
      },
      "outputs": [],
      "source": [
        "X_train = np.array((X_train-np.min(X_train))/(np.max(X_train)-np.min(X_train)))\n",
        "X_test = np.array((X_test-np.min(X_test))/(np.max(X_test)-np.min(X_test)))\n",
        "X_train = X_train/np.std(X_train)\n",
        "X_test = X_test/np.std(X_test)\n",
        "y_train = np.array(y_train)\n",
        "y_test = np.array(y_test)"
      ]
    },
    {
      "cell_type": "markdown",
      "metadata": {
        "id": "yNOZytcCGzgk"
      },
      "source": [
        "Simple CNN"
      ]
    },
    {
      "cell_type": "code",
      "execution_count": 16,
      "metadata": {
        "colab": {
          "base_uri": "https://localhost:8080/"
        },
        "id": "H858qMJSGzSQ",
        "outputId": "39b96bcb-158f-436b-a928-efaa0e06fce2"
      },
      "outputs": [
        {
          "output_type": "stream",
          "name": "stdout",
          "text": [
            "Model: \"sequential\"\n",
            "_________________________________________________________________\n",
            " Layer (type)                Output Shape              Param #   \n",
            "=================================================================\n",
            " conv2d (Conv2D)             (None, 126, 1498, 32)     896       \n",
            "                                                                 \n",
            " max_pooling2d (MaxPooling2D  (None, 63, 749, 32)      0         \n",
            " )                                                               \n",
            "                                                                 \n",
            " flatten (Flatten)           (None, 1509984)           0         \n",
            "                                                                 \n",
            " dense (Dense)               (None, 32)                48319520  \n",
            "                                                                 \n",
            " dense_1 (Dense)             (None, 4)                 132       \n",
            "                                                                 \n",
            "=================================================================\n",
            "Total params: 48,320,548\n",
            "Trainable params: 48,320,548\n",
            "Non-trainable params: 0\n",
            "_________________________________________________________________\n"
          ]
        }
      ],
      "source": [
        "input_shape=(128,1500,3)\n",
        "CNNmodel = models.Sequential()\n",
        "CNNmodel.add(layers.Conv2D(32, (3, 3), activation='relu', input_shape=input_shape))\n",
        "CNNmodel.add(layers.MaxPooling2D((2, 2)))\n",
        "CNNmodel.add(layers.Flatten())\n",
        "CNNmodel.add(layers.Dense(32, activation='relu'))\n",
        "CNNmodel.add(layers.Dense(4, activation='softmax'))\n",
        "CNNmodel.summary()"
      ]
    },
    {
      "cell_type": "markdown",
      "metadata": {
        "id": "IRX_-Z75U14j"
      },
      "source": [
        "Compile the Model"
      ]
    },
    {
      "cell_type": "code",
      "execution_count": 17,
      "metadata": {
        "id": "CtacHSdyU1hM"
      },
      "outputs": [],
      "source": [
        "CNNmodel.compile(optimizer='adam',loss=tf.keras.losses.CategoricalCrossentropy(from_logits=False),metrics=['accuracy'])"
      ]
    },
    {
      "cell_type": "markdown",
      "metadata": {
        "id": "D_6MvTUUVVT8"
      },
      "source": [
        "Fit the Model"
      ]
    },
    {
      "cell_type": "code",
      "execution_count": 18,
      "metadata": {
        "colab": {
          "base_uri": "https://localhost:8080/"
        },
        "id": "OainCWPpVZcO",
        "outputId": "6cd401d5-60d5-433d-ad73-c8e65edffe9a"
      },
      "outputs": [
        {
          "output_type": "stream",
          "name": "stdout",
          "text": [
            "Epoch 1/20\n",
            "9/9 [==============================] - 26s 3s/step - loss: 54481.5664 - accuracy: 0.3950 - val_loss: 4.3842 - val_accuracy: 0.3830\n",
            "Epoch 2/20\n",
            "9/9 [==============================] - 25s 3s/step - loss: 13001.2275 - accuracy: 0.4342 - val_loss: 6.4257 - val_accuracy: 0.3830\n",
            "Epoch 3/20\n",
            "9/9 [==============================] - 25s 3s/step - loss: 2361.6860 - accuracy: 0.4875 - val_loss: 3.9370 - val_accuracy: 0.3936\n",
            "Epoch 4/20\n",
            "9/9 [==============================] - 25s 3s/step - loss: 198.4411 - accuracy: 0.1993 - val_loss: 12.0363 - val_accuracy: 0.3830\n",
            "Epoch 5/20\n",
            "9/9 [==============================] - 24s 3s/step - loss: 1.5703 - accuracy: 0.1744 - val_loss: 15.2343 - val_accuracy: 0.3830\n",
            "Epoch 6/20\n",
            "9/9 [==============================] - 24s 3s/step - loss: 1.5642 - accuracy: 0.4520 - val_loss: 16.2681 - val_accuracy: 0.3830\n",
            "Epoch 7/20\n",
            "9/9 [==============================] - 25s 3s/step - loss: 1.5572 - accuracy: 0.4520 - val_loss: 16.6424 - val_accuracy: 0.3830\n",
            "Epoch 8/20\n",
            "9/9 [==============================] - 24s 3s/step - loss: 1.5495 - accuracy: 0.4520 - val_loss: 16.7848 - val_accuracy: 0.3830\n",
            "Epoch 9/20\n",
            "9/9 [==============================] - 24s 3s/step - loss: 1.5418 - accuracy: 0.4520 - val_loss: 16.8429 - val_accuracy: 0.3830\n",
            "Epoch 10/20\n",
            "9/9 [==============================] - 25s 3s/step - loss: 1.5337 - accuracy: 0.4520 - val_loss: 16.8667 - val_accuracy: 0.3830\n",
            "Epoch 11/20\n",
            "9/9 [==============================] - 24s 3s/step - loss: 1.5256 - accuracy: 0.4520 - val_loss: 16.8766 - val_accuracy: 0.3830\n",
            "Epoch 12/20\n",
            "9/9 [==============================] - 24s 3s/step - loss: 1.5171 - accuracy: 0.4520 - val_loss: 16.8813 - val_accuracy: 0.3830\n",
            "Epoch 13/20\n",
            "9/9 [==============================] - 24s 3s/step - loss: 1.5086 - accuracy: 0.4520 - val_loss: 16.8836 - val_accuracy: 0.3830\n",
            "Epoch 14/20\n",
            "9/9 [==============================] - 24s 3s/step - loss: 1.4998 - accuracy: 0.4520 - val_loss: 16.8843 - val_accuracy: 0.3830\n",
            "Epoch 15/20\n",
            "9/9 [==============================] - 24s 3s/step - loss: 1.4908 - accuracy: 0.4520 - val_loss: 16.8851 - val_accuracy: 0.3830\n",
            "Epoch 16/20\n",
            "9/9 [==============================] - 24s 3s/step - loss: 1.4820 - accuracy: 0.4520 - val_loss: 16.8862 - val_accuracy: 0.3830\n",
            "Epoch 17/20\n",
            "9/9 [==============================] - 24s 3s/step - loss: 1.4730 - accuracy: 0.4520 - val_loss: 16.8864 - val_accuracy: 0.3830\n",
            "Epoch 18/20\n",
            "9/9 [==============================] - 24s 3s/step - loss: 1.4640 - accuracy: 0.4520 - val_loss: 16.8876 - val_accuracy: 0.3830\n",
            "Epoch 19/20\n",
            "9/9 [==============================] - 25s 3s/step - loss: 1.4550 - accuracy: 0.4520 - val_loss: 16.8894 - val_accuracy: 0.3830\n",
            "Epoch 20/20\n",
            "9/9 [==============================] - 25s 3s/step - loss: 1.4461 - accuracy: 0.4520 - val_loss: 16.8905 - val_accuracy: 0.3830\n"
          ]
        }
      ],
      "source": [
        "history = CNNmodel.fit(X_train, y_train, epochs=20, validation_data= (X_val, y_val))"
      ]
    },
    {
      "cell_type": "markdown",
      "metadata": {
        "id": "p8QhuWOgVime"
      },
      "source": [
        "Evaluate the Model"
      ]
    },
    {
      "cell_type": "code",
      "execution_count": 19,
      "metadata": {
        "colab": {
          "base_uri": "https://localhost:8080/",
          "height": 350
        },
        "id": "0RrjRQAUVheM",
        "outputId": "3466022e-1c53-462e-d05d-630b2e696a1e"
      },
      "outputs": [
        {
          "output_type": "display_data",
          "data": {
            "image/png": "[encoded data removed]",
            "text/plain": [
              "<Figure size 1080x360 with 2 Axes>"
            ]
          },
          "metadata": {
            "needs_background": "light"
          }
        }
      ],
      "source": [
        "#Adapted from Deep Learning with Python by Francois Chollet, 2018\n",
        "history_dict=history.history\n",
        "loss_values=history_dict['loss']\n",
        "acc_values=history_dict['accuracy']\n",
        "val_loss_values = history_dict['val_loss']\n",
        "val_acc_values=history_dict['val_accuracy']\n",
        "epochs=range(1,21)\n",
        "fig,(ax1,ax2)=plt.subplots(1,2,figsize=(15,5))\n",
        "ax1.plot(epochs,loss_values,'bo',label='Training Loss')\n",
        "ax1.plot(epochs,val_loss_values,'orange', label='Validation Loss')\n",
        "ax1.set_title('Training and validation loss')\n",
        "ax1.set_xlabel('Epochs')\n",
        "ax1.set_ylabel('Loss')\n",
        "ax1.legend()\n",
        "ax2.plot(epochs,acc_values,'bo', label='Training accuracy')\n",
        "ax2.plot(epochs,val_acc_values,'orange',label='Validation accuracy')\n",
        "ax2.set_title('Training and validation accuracy')\n",
        "ax2.set_xlabel('Epochs')\n",
        "ax2.set_ylabel('Accuracy')\n",
        "ax2.legend()\n",
        "plt.show()\n"
      ]
    }
  ],
  "metadata": {
    "colab": {
      "collapsed_sections": [],
      "name": "cnn_version1.ipynb",
      "provenance": [],
      "mount_file_id": "1GGdOaevDpZGrk5NjT4ExtGemXx0zqzaa",
      "authorship_tag": "ABX9TyOM+n5jwRYFUrTweqUXbMvk",
      "include_colab_link": true
    },
    "kernelspec": {
      "display_name": "Python 3",
      "name": "python3"
    },
    "language_info": {
      "name": "python"
    }
  },
  "nbformat": 4,
  "nbformat_minor": 0
}