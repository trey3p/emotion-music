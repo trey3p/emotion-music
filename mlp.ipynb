{
  "cells": [
    {
      "cell_type": "markdown",
      "metadata": {
        "id": "view-in-github",
        "colab_type": "text"
      },
      "source": [
        "<a href=\"https://colab.research.google.com/github/trey3p/emotion-music/blob/main/mlp.ipynb\" target=\"_parent\"><img src=\"https://colab.research.google.com/assets/colab-badge.svg\" alt=\"Open In Colab\"/></a>"
      ]
    },
    {
      "cell_type": "code",
      "execution_count": 1,
      "metadata": {
        "id": "mzogUgMni9FP"
      },
      "outputs": [],
      "source": [
        "import sklearn\n",
        "import pandas as pd\n",
        "import numpy as np\n",
        "import os\n",
        "import librosa\n",
        "import matplotlib.pyplot as plt\n",
        "from sklearn.preprocessing import normalize"
      ]
    },
    {
      "cell_type": "markdown",
      "metadata": {
        "id": "e0OCZtWnIppg"
      },
      "source": [
        "Feature Extraction"
      ]
    },
    {
      "cell_type": "code",
      "execution_count": 2,
      "metadata": {
        "id": "8IIlUKs_JEEK"
      },
      "outputs": [],
      "source": [
        "def padding(array, xx, yy):\n",
        "  #Takes numpy array, desired height, and width and pads the array.\n",
        "\n",
        "  h = array.shape[0]\n",
        "  w = array.shape[1]\n",
        "\n",
        "  a = max((xx - h) // 2,0)\n",
        "  aa = max(0,xx - a - h)\n",
        "\n",
        "  b = max(0,(yy - w) // 2)\n",
        "  bb = max(yy - b - w,0)\n",
        "\n",
        "  return np.pad(array, pad_width=((a, aa), (b, bb)), mode='constant')\n",
        "\n",
        "def extract_features(y):\n",
        "  max_size = 1500 #Max audio file width\n",
        "\n",
        "  #Getting short-time Fourier transform and padding\n",
        "  stft = padding(np.abs(librosa.stft(y, n_fft = 225, hop_length = 512)), 128, max_size)\n",
        "\n",
        "  #Getting MFCCs and padding\n",
        "  mfccs = padding(librosa.feature.mfcc(y, n_fft = 225, hop_length = 512, \n",
        "                                       n_mfcc = 225, S = np.abs(stft)**2), 128, max_size)\n",
        "  \n",
        "  #Getting the spectral centroid\n",
        "\n",
        "  spec_centroid = librosa.feature.spectral_centroid(y=y, sr=sr)\n",
        "  \n",
        "  #Getting chromagram\n",
        "  chroma_stft = librosa.feature.chroma_stft(y=y, sr=sr)\n",
        "  \n",
        "  #Getting spectral bandwith\n",
        "  spec_bw = librosa.feature.spectral_bandwidth(y=y, sr=sr)\n",
        "\n",
        "\n",
        "  #Now padding the spectral pandwith and \n",
        "  image = np.array([padding(normalize(spec_bw),1, max_size)]).reshape(1,max_size)\n",
        "  image = np.append(image,padding(normalize(spec_centroid),1, max_size), axis=0) \n",
        "\n",
        "\n",
        "  #Repeat padding for Spectral Bandwith, Spectral Centroid, Chromagram until they are the same\n",
        "  # size as MFCC and STFT  \n",
        "  for i in range(0,9):\n",
        "    image = np.append(image,padding(normalize(spec_bw),1, max_size), axis=0)\n",
        "    image = np.append(image, padding(normalize(spec_centroid),1, max_size), axis=0)\n",
        "    image = np.append(image, padding(normalize(chroma_stft),12, max_size), axis=0)\n",
        "    \n",
        "  image=np.dstack((image,np.abs(stft)))\n",
        "\n",
        "  image=np.dstack((image,mfccs))\n",
        "\n",
        "  return image\n"
      ]
    },
    {
      "cell_type": "code",
      "execution_count": 3,
      "metadata": {
        "colab": {
          "base_uri": "https://localhost:8080/"
        },
        "id": "0foVzxmRJXeF",
        "outputId": "a2596431-dcd2-4650-ef78-1b8f2be0aa06"
      },
      "outputs": [
        {
          "output_type": "stream",
          "name": "stdout",
          "text": [
            "Mounted at /content/drive\n"
          ]
        }
      ],
      "source": [
        "from google.colab import drive\n",
        "drive.mount('/content/drive')\n",
        "\n",
        "df_music = pd.read_csv(\"/content/drive/MyDrive/Colab '22 - Plante/music_labels.csv\")"
      ]
    },
    {
      "cell_type": "code",
      "execution_count": 4,
      "metadata": {
        "colab": {
          "base_uri": "https://localhost:8080/"
        },
        "id": "1R96_YKPJvn-",
        "outputId": "6760435b-6635-4907-c743-501d62b14cb0"
      },
      "outputs": [
        {
          "output_type": "stream",
          "name": "stderr",
          "text": [
            "100%|██████████| 7357/7357 [21:57<00:00,  5.58it/s]\n"
          ]
        }
      ],
      "source": [
        "import random\n",
        "from tqdm import tqdm\n",
        "output_files = os.listdir(\"/content/drive/MyDrive/Colab '22 - Plante/output\")\n",
        "output_files = random.sample(output_files, 500)\n",
        "features = []\n",
        "ad_names = []\n",
        "ominous = []\n",
        "uplifting = []\n",
        "sad = []\n",
        "other = []\n",
        "\n",
        "for i in tqdm(range(len(df_music))):\n",
        "  if df_music['alt'][i] in output_files:\n",
        "    y, sr = librosa.load(\"/content/drive/MyDrive/Colab '22 - Plante/output/\" + df_music['alt'][i] + \"/accompaniment.wav\", \n",
        "                         duration = 30)\n",
        "    features.append(extract_features(y))\n",
        "    ad_names.append(df_music['alt'][i])\n",
        "    ominous.append(df_music['MUSIC1'][i])\n",
        "    uplifting.append(df_music['MUSIC2'][i])\n",
        "    sad.append(df_music['MUSIC3'][i])\n",
        "    other.append(df_music['MUSIC90'][i])\n",
        "\n",
        "np.concatenate(features, axis = 0)\n",
        "dataset = pd.DataFrame({'Ad Name' : ad_names , 'Ominous-Tense': ominous, 'Uplifting' : uplifting, \n",
        "                        'Sad-Sorrowful' : sad, 'Other' : other, \n",
        "                        'Features' : features})\n"
      ]
    },
    {
      "cell_type": "code",
      "execution_count": 5,
      "metadata": {
        "colab": {
          "base_uri": "https://localhost:8080/",
          "height": 206
        },
        "id": "LoQzIjQnJzbH",
        "outputId": "1b741574-16e9-4a16-b2f7-011f6e430991"
      },
      "outputs": [
        {
          "output_type": "execute_result",
          "data": {
            "text/html": [
              "<div>\n",
              "<style scoped>\n",
              "    .dataframe tbody tr th:only-of-type {\n",
              "        vertical-align: middle;\n",
              "    }\n",
              "\n",
              "    .dataframe tbody tr th {\n",
              "        vertical-align: top;\n",
              "    }\n",
              "\n",
              "    .dataframe thead th {\n",
              "        text-align: right;\n",
              "    }\n",
              "</style>\n",
              "<table border=\"1\" class=\"dataframe\">\n",
              "  <thead>\n",
              "    <tr style=\"text-align: right;\">\n",
              "      <th></th>\n",
              "      <th>Ad Name</th>\n",
              "      <th>Ominous-Tense</th>\n",
              "      <th>Uplifting</th>\n",
              "      <th>Sad-Sorrowful</th>\n",
              "      <th>Other</th>\n",
              "      <th>Features</th>\n",
              "    </tr>\n",
              "  </thead>\n",
              "  <tbody>\n",
              "    <tr>\n",
              "      <th>0</th>\n",
              "      <td>GOV_IN_HOLCOMB_ELISE</td>\n",
              "      <td>0</td>\n",
              "      <td>1</td>\n",
              "      <td>0</td>\n",
              "      <td>0</td>\n",
              "      <td>[[[0.0, 0.0, 0.0], [0.0, 0.0, 0.0], [0.0, 0.0,...</td>\n",
              "    </tr>\n",
              "    <tr>\n",
              "      <th>1</th>\n",
              "      <td>GOV_IN_HOLCOMB_HOOSIER_VALUES</td>\n",
              "      <td>0</td>\n",
              "      <td>1</td>\n",
              "      <td>0</td>\n",
              "      <td>0</td>\n",
              "      <td>[[[0.0, 0.0, 0.0], [0.0, 0.0, 0.0], [0.0, 0.0,...</td>\n",
              "    </tr>\n",
              "    <tr>\n",
              "      <th>2</th>\n",
              "      <td>GOV_KY_ADKINS_BLUEGRASS</td>\n",
              "      <td>0</td>\n",
              "      <td>1</td>\n",
              "      <td>0</td>\n",
              "      <td>0</td>\n",
              "      <td>[[[0.0, 0.0, 0.0], [0.0, 0.0, 0.0], [0.0, 0.0,...</td>\n",
              "    </tr>\n",
              "    <tr>\n",
              "      <th>3</th>\n",
              "      <td>GOV_KY_ADKINS_IT_IS_TIME</td>\n",
              "      <td>0</td>\n",
              "      <td>1</td>\n",
              "      <td>0</td>\n",
              "      <td>0</td>\n",
              "      <td>[[[0.0, 0.0, 0.0], [0.0, 0.0, 0.0], [0.0, 0.0,...</td>\n",
              "    </tr>\n",
              "    <tr>\n",
              "      <th>4</th>\n",
              "      <td>GOV_KY_BESHEAR_FUTURE_15</td>\n",
              "      <td>0</td>\n",
              "      <td>1</td>\n",
              "      <td>0</td>\n",
              "      <td>0</td>\n",
              "      <td>[[[0.0, 0.0, 0.0], [0.0, 0.0, 0.0], [0.0, 0.0,...</td>\n",
              "    </tr>\n",
              "  </tbody>\n",
              "</table>\n",
              "</div>"
            ],
            "text/plain": [
              "                         Ad Name  ...                                           Features\n",
              "0           GOV_IN_HOLCOMB_ELISE  ...  [[[0.0, 0.0, 0.0], [0.0, 0.0, 0.0], [0.0, 0.0,...\n",
              "1  GOV_IN_HOLCOMB_HOOSIER_VALUES  ...  [[[0.0, 0.0, 0.0], [0.0, 0.0, 0.0], [0.0, 0.0,...\n",
              "2        GOV_KY_ADKINS_BLUEGRASS  ...  [[[0.0, 0.0, 0.0], [0.0, 0.0, 0.0], [0.0, 0.0,...\n",
              "3       GOV_KY_ADKINS_IT_IS_TIME  ...  [[[0.0, 0.0, 0.0], [0.0, 0.0, 0.0], [0.0, 0.0,...\n",
              "4       GOV_KY_BESHEAR_FUTURE_15  ...  [[[0.0, 0.0, 0.0], [0.0, 0.0, 0.0], [0.0, 0.0,...\n",
              "\n",
              "[5 rows x 6 columns]"
            ]
          },
          "metadata": {},
          "execution_count": 5
        }
      ],
      "source": [
        "dataset.head()"
      ]
    },
    {
      "cell_type": "markdown",
      "metadata": {
        "id": "IE0JtFUSJ0Pj"
      },
      "source": [
        "Train & Test Sets"
      ]
    },
    {
      "cell_type": "code",
      "execution_count": 6,
      "metadata": {
        "id": "nosYd-6QJ16r"
      },
      "outputs": [],
      "source": [
        "from sklearn.model_selection import train_test_split\n",
        "X = np.array(features)\n",
        "y = dataset[['Ominous-Tense', 'Uplifting', 'Sad-Sorrowful', 'Other']]\n",
        "X_train, X_test, y_train, y_test = train_test_split(X, y, test_size = .3, random_state = 0, shuffle = True)"
      ]
    },
    {
      "cell_type": "code",
      "execution_count": 7,
      "metadata": {
        "id": "GBRN_QjHKCk4"
      },
      "outputs": [],
      "source": [
        "nsamples, nx, ny, nz = X_train.shape\n",
        "d2_train_dataset = X_train.resize((nsamples,nx*ny*nz))"
      ]
    },
    {
      "cell_type": "code",
      "execution_count": 8,
      "metadata": {
        "id": "lc0AVlWgKDj6"
      },
      "outputs": [],
      "source": [
        "nsamples, nx, ny, nz = X_test.shape\n",
        "d2_train_dataset = X_test.resize((nsamples,nx*ny*nz))"
      ]
    },
    {
      "cell_type": "markdown",
      "metadata": {
        "id": "cAhhLYJIKXg-"
      },
      "source": [
        "Model"
      ]
    },
    {
      "cell_type": "code",
      "execution_count": 9,
      "metadata": {
        "id": "MGdmB9z6KYkS",
        "colab": {
          "base_uri": "https://localhost:8080/"
        },
        "outputId": "74770f11-ed46-42aa-8b74-02f151521621"
      },
      "outputs": [
        {
          "metadata": {
            "tags": null
          },
          "name": "stderr",
          "output_type": "stream",
          "text": [
            " 25%|██▌       | 1/4 [07:13<21:39, 433.17s/it]"
          ]
        },
        {
          "metadata": {
            "tags": null
          },
          "name": "stdout",
          "output_type": "stream",
          "text": [
            "Test accuracy for Ominous-Tense is 0.66\n"
          ]
        },
        {
          "output_type": "stream",
          "name": "stderr",
          "text": [
            "\r 50%|█████     | 2/4 [16:05<16:22, 491.42s/it]"
          ]
        },
        {
          "output_type": "stream",
          "name": "stdout",
          "text": [
            "Test accuracy for Uplifting is 0.62\n"
          ]
        },
        {
          "output_type": "stream",
          "name": "stderr",
          "text": [
            "/usr/local/lib/python3.7/dist-packages/sklearn/neural_network/_multilayer_perceptron.py:696: ConvergenceWarning: Stochastic Optimizer: Maximum iterations (200) reached and the optimization hasn't converged yet.\n",
            "  ConvergenceWarning,\n",
            " 75%|███████▌  | 3/4 [36:12<13:38, 818.22s/it]"
          ]
        },
        {
          "output_type": "stream",
          "name": "stdout",
          "text": [
            "Test accuracy for Sad-Sorrowful is 0.9\n"
          ]
        },
        {
          "output_type": "stream",
          "name": "stderr",
          "text": [
            "100%|██████████| 4/4 [40:57<00:00, 614.45s/it]"
          ]
        },
        {
          "output_type": "stream",
          "name": "stdout",
          "text": [
            "Test accuracy for Other is 0.9933333333333333\n"
          ]
        },
        {
          "output_type": "stream",
          "name": "stderr",
          "text": [
            "\n"
          ]
        }
      ],
      "source": [
        "from sklearn.neural_network import MLPClassifier\n",
        "from sklearn.multiclass import OneVsRestClassifier\n",
        "from sklearn.metrics import confusion_matrix\n",
        "from sklearn.metrics import ConfusionMatrixDisplay\n",
        "from sklearn.metrics import accuracy_score\n",
        "from tqdm import tqdm\n",
        "\n",
        "cms = []\n",
        "clf = OneVsRestClassifier(MLPClassifier(random_state = 0))\n",
        "labels = ['Ominous-Tense', 'Uplifting', 'Sad-Sorrowful', 'Other']\n",
        "\n",
        "\n",
        "\n",
        "for label in tqdm(labels):\n",
        "  clf.fit(X_train, y_train[label])\n",
        "  prediction = clf.predict(X_test)\n",
        "  cms.append(confusion_matrix(y_test[label], prediction))\n",
        "  print('Test accuracy for ' + label + ' is {}'.format(accuracy_score(y_test[label], prediction)))"
      ]
    },
    {
      "cell_type": "code",
      "execution_count": 14,
      "metadata": {
        "id": "AaatwuI-K3Bl",
        "colab": {
          "base_uri": "https://localhost:8080/",
          "height": 297
        },
        "outputId": "b31b449b-884f-4a25-eccd-242538e57ff4"
      },
      "outputs": [
        {
          "output_type": "execute_result",
          "data": {
            "text/plain": [
              "<sklearn.metrics._plot.confusion_matrix.ConfusionMatrixDisplay at 0x7f9e53e0fd50>"
            ]
          },
          "metadata": {},
          "execution_count": 14
        },
        {
          "output_type": "display_data",
          "data": {
            "image/png": "[encoded data removed]",
            "text/plain": [
              "<Figure size 432x288 with 2 Axes>"
            ]
          },
          "metadata": {
            "needs_background": "light"
          }
        }
      ],
      "source": [
        "ConfusionMatrixDisplay(cms[0], display_labels = ['Not Ominous/Tense', 'Ominous/Tense']).plot()"
      ]
    },
    {
      "cell_type": "code",
      "execution_count": 15,
      "metadata": {
        "id": "CCiwQv2KK_LL",
        "colab": {
          "base_uri": "https://localhost:8080/",
          "height": 297
        },
        "outputId": "8fed9289-14ce-4d3a-a392-186ddcc2c254"
      },
      "outputs": [
        {
          "output_type": "execute_result",
          "data": {
            "text/plain": [
              "<sklearn.metrics._plot.confusion_matrix.ConfusionMatrixDisplay at 0x7f9e53e37710>"
            ]
          },
          "metadata": {},
          "execution_count": 15
        },
        {
          "output_type": "display_data",
          "data": {
            "image/png": "[encoded data removed]",
            "text/plain": [
              "<Figure size 432x288 with 2 Axes>"
            ]
          },
          "metadata": {
            "needs_background": "light"
          }
        }
      ],
      "source": [
        "ConfusionMatrixDisplay(cms[1], display_labels = ['Not Uplifting', 'Uplifting']).plot()"
      ]
    },
    {
      "cell_type": "code",
      "execution_count": 16,
      "metadata": {
        "id": "oGXPEVe8LK0H",
        "colab": {
          "base_uri": "https://localhost:8080/",
          "height": 297
        },
        "outputId": "0e43f18b-1530-43f5-d8a2-82c8b7954aa5"
      },
      "outputs": [
        {
          "output_type": "execute_result",
          "data": {
            "text/plain": [
              "<sklearn.metrics._plot.confusion_matrix.ConfusionMatrixDisplay at 0x7f9e53e43c10>"
            ]
          },
          "metadata": {},
          "execution_count": 16
        },
        {
          "output_type": "display_data",
          "data": {
            "image/png": "[encoded data removed]",
            "text/plain": [
              "<Figure size 432x288 with 2 Axes>"
            ]
          },
          "metadata": {
            "needs_background": "light"
          }
        }
      ],
      "source": [
        "ConfusionMatrixDisplay(cms[2], display_labels = ['Not Sad', 'Sad']).plot()"
      ]
    },
    {
      "cell_type": "code",
      "execution_count": 17,
      "metadata": {
        "id": "31ksy7J0LMej",
        "colab": {
          "base_uri": "https://localhost:8080/",
          "height": 297
        },
        "outputId": "655b9c07-6924-4a79-d11f-4652e0c5b449"
      },
      "outputs": [
        {
          "output_type": "execute_result",
          "data": {
            "text/plain": [
              "<sklearn.metrics._plot.confusion_matrix.ConfusionMatrixDisplay at 0x7f9e4a4db150>"
            ]
          },
          "metadata": {},
          "execution_count": 17
        },
        {
          "output_type": "display_data",
          "data": {
            "image/png": "[encoded data removed]",
            "text/plain": [
              "<Figure size 432x288 with 2 Axes>"
            ]
          },
          "metadata": {
            "needs_background": "light"
          }
        }
      ],
      "source": [
        "ConfusionMatrixDisplay(cms[3], display_labels = ['Not Other', 'Other']).plot()"
      ]
    }
  ],
  "metadata": {
    "colab": {
      "name": "mlp.ipynb",
      "provenance": [],
      "machine_shape": "hm",
      "authorship_tag": "ABX9TyN+kw8J1Isa2FcgYOIS6DlH",
      "include_colab_link": true
    },
    "kernelspec": {
      "display_name": "Python 3",
      "name": "python3"
    },
    "language_info": {
      "name": "python"
    },
    "accelerator": "GPU"
  },
  "nbformat": 4,
  "nbformat_minor": 0
}