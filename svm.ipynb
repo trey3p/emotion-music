{
  "cells": [
    {
      "cell_type": "markdown",
      "metadata": {
        "id": "view-in-github",
        "colab_type": "text"
      },
      "source": [
        "<a href=\"https://colab.research.google.com/github/trey3p/emotion-music/blob/main/svm_version1.ipynb\" target=\"_parent\"><img src=\"https://colab.research.google.com/assets/colab-badge.svg\" alt=\"Open In Colab\"/></a>"
      ]
    },
    {
      "cell_type": "code",
      "execution_count": 20,
      "metadata": {
        "id": "mzogUgMni9FP"
      },
      "outputs": [],
      "source": [
        "import sklearn\n",
        "import pandas as pd\n",
        "import numpy as np\n",
        "import os\n",
        "import librosa\n",
        "import matplotlib.pyplot as plt\n",
        "from sklearn.preprocessing import normalize"
      ]
    },
    {
      "cell_type": "markdown",
      "metadata": {
        "id": "6HxfQm4si589"
      },
      "source": [
        "Feature Extraction"
      ]
    },
    {
      "cell_type": "code",
      "execution_count": 21,
      "metadata": {
        "id": "pdCsE1f9RRcF"
      },
      "outputs": [],
      "source": [
        "def padding(array, xx, yy):\n",
        "  #Takes numpy array, desired height, and width and pads the array.\n",
        "\n",
        "  h = array.shape[0]\n",
        "  w = array.shape[1]\n",
        "\n",
        "  a = max((xx - h) // 2,0)\n",
        "  aa = max(0,xx - a - h)\n",
        "\n",
        "  b = max(0,(yy - w) // 2)\n",
        "  bb = max(yy - b - w,0)\n",
        "\n",
        "  return np.pad(array, pad_width=((a, aa), (b, bb)), mode='constant')\n",
        "\n",
        "def extract_features(y):\n",
        "  max_size = 1500 #Max audio file width\n",
        "\n",
        "  #Getting short-time Fourier transform and padding\n",
        "  stft = padding(np.abs(librosa.stft(y, n_fft = 225, hop_length = 512)), 128, max_size)\n",
        "\n",
        "  #Getting MFCCs and padding\n",
        "  mfccs = padding(librosa.feature.mfcc(y, n_fft = 225, hop_length = 512, \n",
        "                                       n_mfcc = 225, S = np.abs(stft)**2), 128, max_size)\n",
        "  \n",
        "  #Getting the spectral centroid\n",
        "\n",
        "  spec_centroid = librosa.feature.spectral_centroid(y=y, sr=sr)\n",
        "  \n",
        "  #Getting chromagram\n",
        "  chroma_stft = librosa.feature.chroma_stft(y=y, sr=sr)\n",
        "  \n",
        "  #Getting spectral bandwith\n",
        "  spec_bw = librosa.feature.spectral_bandwidth(y=y, sr=sr)\n",
        "\n",
        "\n",
        "  #Now padding the spectral pandwith and \n",
        "  image = np.array([padding(normalize(spec_bw),1, max_size)]).reshape(1,max_size)\n",
        "  image = np.append(image,padding(normalize(spec_centroid),1, max_size), axis=0) \n",
        "\n",
        "\n",
        "  #Repeat padding for Spectral Bandwith, Spectral Centroid, Chromagram until they are the same\n",
        "  # size as MFCC and STFT  \n",
        "  for i in range(0,9):\n",
        "    image = np.append(image,padding(normalize(spec_bw),1, max_size), axis=0)\n",
        "    image = np.append(image, padding(normalize(spec_centroid),1, max_size), axis=0)\n",
        "    image = np.append(image, padding(normalize(chroma_stft),12, max_size), axis=0)\n",
        "    \n",
        "  image=np.dstack((image,np.abs(stft)))\n",
        "\n",
        "  image=np.dstack((image,mfccs))\n",
        "\n",
        "  return image\n",
        "\n",
        "  "
      ]
    },
    {
      "cell_type": "code",
      "execution_count": 22,
      "metadata": {
        "colab": {
          "base_uri": "https://localhost:8080/"
        },
        "id": "Z2iQnTZSls_V",
        "outputId": "aba9cc54-cdb7-4a6f-a363-7ebdf0b9b101"
      },
      "outputs": [
        {
          "output_type": "stream",
          "name": "stdout",
          "text": [
            "Drive already mounted at /content/drive; to attempt to forcibly remount, call drive.mount(\"/content/drive\", force_remount=True).\n"
          ]
        }
      ],
      "source": [
        "from google.colab import drive\n",
        "drive.mount('/content/drive')"
      ]
    },
    {
      "cell_type": "code",
      "execution_count": 23,
      "metadata": {
        "id": "pS7Y4HOIrNa7"
      },
      "outputs": [],
      "source": [
        "df_music = pd.read_csv(\"/content/drive/MyDrive/Colab '22 - Plante/music_labels.csv\")"
      ]
    },
    {
      "cell_type": "code",
      "execution_count": 24,
      "metadata": {
        "colab": {
          "base_uri": "https://localhost:8080/"
        },
        "id": "R9V8nGW2ja1m",
        "outputId": "07abbdc8-e0c6-48fe-a995-1817a181dae5"
      },
      "outputs": [
        {
          "output_type": "stream",
          "name": "stderr",
          "text": [
            "100%|██████████| 7357/7357 [38:38<00:00,  3.17it/s]\n"
          ]
        }
      ],
      "source": [
        "import random\n",
        "from tqdm import tqdm\n",
        "output_files = os.listdir(\"/content/drive/MyDrive/Colab '22 - Plante/output\")\n",
        "output_files = random.sample(output_files, 1000)\n",
        "features = []\n",
        "ad_names = []\n",
        "ominous = []\n",
        "uplifting = []\n",
        "sad = []\n",
        "other = []\n",
        "\n",
        "for i in tqdm(range(len(df_music))):\n",
        "  if df_music['alt'][i] in output_files:\n",
        "    y, sr = librosa.load(\"/content/drive/MyDrive/Colab '22 - Plante/output/\" + df_music['alt'][i] + \"/accompaniment.wav\", \n",
        "                         duration = 30)\n",
        "    features.append(extract_features(y))\n",
        "    ad_names.append(df_music['alt'][i])\n",
        "    ominous.append(df_music['MUSIC1'][i])\n",
        "    uplifting.append(df_music['MUSIC2'][i])\n",
        "    sad.append(df_music['MUSIC3'][i])\n",
        "    other.append(df_music['MUSIC90'][i])\n",
        "\n",
        "np.concatenate(features, axis = 0)\n",
        "dataset = pd.DataFrame({'Ad Name' : ad_names , 'Ominous-Tense': ominous, 'Uplifting' : uplifting, \n",
        "                        'Sad-Sorrowful' : sad, 'Other' : other, \n",
        "                        'Features' : features})\n"
      ]
    },
    {
      "cell_type": "code",
      "execution_count": 25,
      "metadata": {
        "colab": {
          "base_uri": "https://localhost:8080/",
          "height": 206
        },
        "id": "IZTwOKWIl_ou",
        "outputId": "b03578ab-3344-444c-dc9f-520140acb239"
      },
      "outputs": [
        {
          "output_type": "execute_result",
          "data": {
            "text/html": [
              "<div>\n",
              "<style scoped>\n",
              "    .dataframe tbody tr th:only-of-type {\n",
              "        vertical-align: middle;\n",
              "    }\n",
              "\n",
              "    .dataframe tbody tr th {\n",
              "        vertical-align: top;\n",
              "    }\n",
              "\n",
              "    .dataframe thead th {\n",
              "        text-align: right;\n",
              "    }\n",
              "</style>\n",
              "<table border=\"1\" class=\"dataframe\">\n",
              "  <thead>\n",
              "    <tr style=\"text-align: right;\">\n",
              "      <th></th>\n",
              "      <th>Ad Name</th>\n",
              "      <th>Ominous-Tense</th>\n",
              "      <th>Uplifting</th>\n",
              "      <th>Sad-Sorrowful</th>\n",
              "      <th>Other</th>\n",
              "      <th>Features</th>\n",
              "    </tr>\n",
              "  </thead>\n",
              "  <tbody>\n",
              "    <tr>\n",
              "      <th>0</th>\n",
              "      <td>GOV_IN_HOLCOMB_JANET_2</td>\n",
              "      <td>0</td>\n",
              "      <td>1</td>\n",
              "      <td>0</td>\n",
              "      <td>0</td>\n",
              "      <td>[[[0.0, 0.0, 0.0], [0.0, 0.0, 0.0], [0.0, 0.0,...</td>\n",
              "    </tr>\n",
              "    <tr>\n",
              "      <th>1</th>\n",
              "      <td>GOV_KY_BESHEAR_CARES</td>\n",
              "      <td>0</td>\n",
              "      <td>1</td>\n",
              "      <td>1</td>\n",
              "      <td>0</td>\n",
              "      <td>[[[0.0, 0.0, 0.0], [0.0, 0.0, 0.0], [0.0, 0.0,...</td>\n",
              "    </tr>\n",
              "    <tr>\n",
              "      <th>2</th>\n",
              "      <td>GOV_KY_BESHEAR_IN_HIS_OWN_WORDS_15</td>\n",
              "      <td>1</td>\n",
              "      <td>0</td>\n",
              "      <td>0</td>\n",
              "      <td>0</td>\n",
              "      <td>[[[0.0, 0.0, 0.0], [0.0, 0.0, 0.0], [0.0, 0.0,...</td>\n",
              "    </tr>\n",
              "    <tr>\n",
              "      <th>3</th>\n",
              "      <td>GOV_KY_BESHEAR_MY_FAMILY</td>\n",
              "      <td>0</td>\n",
              "      <td>1</td>\n",
              "      <td>0</td>\n",
              "      <td>0</td>\n",
              "      <td>[[[0.0, 0.0, 0.0], [0.0, 0.0, 0.0], [0.0, 0.0,...</td>\n",
              "    </tr>\n",
              "    <tr>\n",
              "      <th>4</th>\n",
              "      <td>GOV_KY_BESHEAR_NEGATIVE_AND_FALSE_15</td>\n",
              "      <td>1</td>\n",
              "      <td>0</td>\n",
              "      <td>0</td>\n",
              "      <td>0</td>\n",
              "      <td>[[[0.0, 0.0, 0.0], [0.0, 0.0, 0.0], [0.0, 0.0,...</td>\n",
              "    </tr>\n",
              "  </tbody>\n",
              "</table>\n",
              "</div>"
            ],
            "text/plain": [
              "                                Ad Name  ...                                           Features\n",
              "0                GOV_IN_HOLCOMB_JANET_2  ...  [[[0.0, 0.0, 0.0], [0.0, 0.0, 0.0], [0.0, 0.0,...\n",
              "1                  GOV_KY_BESHEAR_CARES  ...  [[[0.0, 0.0, 0.0], [0.0, 0.0, 0.0], [0.0, 0.0,...\n",
              "2    GOV_KY_BESHEAR_IN_HIS_OWN_WORDS_15  ...  [[[0.0, 0.0, 0.0], [0.0, 0.0, 0.0], [0.0, 0.0,...\n",
              "3              GOV_KY_BESHEAR_MY_FAMILY  ...  [[[0.0, 0.0, 0.0], [0.0, 0.0, 0.0], [0.0, 0.0,...\n",
              "4  GOV_KY_BESHEAR_NEGATIVE_AND_FALSE_15  ...  [[[0.0, 0.0, 0.0], [0.0, 0.0, 0.0], [0.0, 0.0,...\n",
              "\n",
              "[5 rows x 6 columns]"
            ]
          },
          "metadata": {},
          "execution_count": 25
        }
      ],
      "source": [
        "dataset.head()"
      ]
    },
    {
      "cell_type": "markdown",
      "metadata": {
        "id": "x_Xv9p6El6aA"
      },
      "source": [
        "Model"
      ]
    },
    {
      "cell_type": "code",
      "execution_count": 26,
      "metadata": {
        "id": "vB5M10AXl9vn"
      },
      "outputs": [],
      "source": [
        "from sklearn.model_selection import train_test_split\n",
        "X = np.array(features)\n",
        "y = dataset[['Ominous-Tense', 'Uplifting', 'Sad-Sorrowful', 'Other']]\n",
        "X_train, X_test, y_train, y_test = train_test_split(X, y, test_size = .3, random_state = 0, shuffle = True)"
      ]
    },
    {
      "cell_type": "code",
      "execution_count": 27,
      "metadata": {
        "colab": {
          "base_uri": "https://localhost:8080/"
        },
        "id": "e4wUr8bJ1M2Z",
        "outputId": "ce54fdd3-6a9e-46b3-828f-1e4d69ee1d67"
      },
      "outputs": [
        {
          "output_type": "execute_result",
          "data": {
            "text/plain": [
              "(700, 128, 1500, 3)"
            ]
          },
          "metadata": {},
          "execution_count": 27
        }
      ],
      "source": [
        "X_train.shape"
      ]
    },
    {
      "cell_type": "code",
      "execution_count": 28,
      "metadata": {
        "colab": {
          "base_uri": "https://localhost:8080/"
        },
        "id": "W2b55arJxq-x",
        "outputId": "d10ea97f-cd79-47fb-90a9-dbb0e4e58dca"
      },
      "outputs": [
        {
          "output_type": "execute_result",
          "data": {
            "text/plain": [
              "(700, 4)"
            ]
          },
          "metadata": {},
          "execution_count": 28
        }
      ],
      "source": [
        "y_train.shape"
      ]
    },
    {
      "cell_type": "code",
      "execution_count": 29,
      "metadata": {
        "id": "Bbe2f4n_03-O"
      },
      "outputs": [],
      "source": [
        "nsamples, nx, ny, nz = X_train.shape\n",
        "d2_train_dataset = X_train.resize((nsamples,nx*ny*nz))"
      ]
    },
    {
      "cell_type": "code",
      "execution_count": 30,
      "metadata": {
        "id": "ei2GdyBA9i7a"
      },
      "outputs": [],
      "source": [
        "nsamples, nx, ny, nz = X_test.shape\n",
        "d2_train_dataset = X_test.resize((nsamples,nx*ny*nz))"
      ]
    },
    {
      "cell_type": "code",
      "execution_count": 31,
      "metadata": {
        "colab": {
          "base_uri": "https://localhost:8080/"
        },
        "id": "_JeddhiD1d56",
        "outputId": "632a85a1-942c-4ca1-c047-74a1ba73623d"
      },
      "outputs": [
        {
          "output_type": "execute_result",
          "data": {
            "text/plain": [
              "(700, 576000)"
            ]
          },
          "metadata": {},
          "execution_count": 31
        }
      ],
      "source": [
        "X_train.shape"
      ]
    },
    {
      "cell_type": "code",
      "execution_count": 32,
      "metadata": {
        "colab": {
          "base_uri": "https://localhost:8080/"
        },
        "id": "tclgCTt5mpaQ",
        "outputId": "5ffaa37c-7315-49b1-a052-d143c45843dd"
      },
      "outputs": [
        {
          "output_type": "stream",
          "name": "stdout",
          "text": [
            "Test accuracy forOminous-Tenseis 0.6566666666666666\n",
            "Test accuracy forUpliftingis 0.6366666666666667\n",
            "Test accuracy forSad-Sorrowfulis 0.8733333333333333\n",
            "Test accuracy forOtheris 0.9866666666666667\n"
          ]
        }
      ],
      "source": [
        "\n",
        "from sklearn.svm import SVC\n",
        "from sklearn.multiclass import OneVsRestClassifier\n",
        "from sklearn.metrics import accuracy_score\n",
        "from sklearn.metrics import confusion_matrix\n",
        "from sklearn.metrics import ConfusionMatrixDisplay\n",
        "\n",
        "clf = OneVsRestClassifier(SVC())\n",
        "labels = ['Ominous-Tense', 'Uplifting', 'Sad-Sorrowful', 'Other']\n",
        "for label in labels:\n",
        "  clf.fit(X_train, y_train[label])\n",
        "  prediction = clf.predict(X_test)\n",
        "  print('Test accuracy for ' + label + ' is {}'.format(accuracy_score(y_test[label], prediction)))"
      ]
    },
    {
      "cell_type": "code",
      "execution_count": 33,
      "metadata": {
        "id": "9SZksXm7FxrW"
      },
      "outputs": [],
      "source": [
        "\n",
        "from sklearn.metrics import confusion_matrix\n",
        "cms = []\n",
        "for label in labels:\n",
        "  clf.fit(X_train, y_train[label])\n",
        "  prediction = clf.predict(X_test)\n",
        "  cms.append(confusion_matrix(y_test[label], prediction))"
      ]
    },
    {
      "cell_type": "code",
      "execution_count": 34,
      "metadata": {
        "id": "vaWbbxZXNN__"
      },
      "outputs": [],
      "source": [
        "from sklearn.metrics import ConfusionMatrixDisplay\n"
      ]
    },
    {
      "cell_type": "code",
      "execution_count": 35,
      "metadata": {
        "colab": {
          "base_uri": "https://localhost:8080/",
          "height": 297
        },
        "id": "bStTbS2zGLjs",
        "outputId": "73fa6663-0d8b-4553-e3d2-9a3f4acb76f7"
      },
      "outputs": [
        {
          "output_type": "execute_result",
          "data": {
            "text/plain": [
              "<sklearn.metrics._plot.confusion_matrix.ConfusionMatrixDisplay at 0x7f785bdea590>"
            ]
          },
          "metadata": {},
          "execution_count": 35
        },
        {
          "output_type": "display_data",
          "data": {
            "image/png": "[encoded data removed]",
            "text/plain": [
              "<Figure size 432x288 with 2 Axes>"
            ]
          },
          "metadata": {
            "needs_background": "light"
          }
        }
      ],
      "source": [
        "ConfusionMatrixDisplay(cms[0], display_labels = ['Not Ominous/Tense', 'Ominous/Tense' ]).plot()"
      ]
    },
    {
      "cell_type": "code",
      "execution_count": 36,
      "metadata": {
        "colab": {
          "base_uri": "https://localhost:8080/",
          "height": 297
        },
        "id": "xwziIlz9GSCU",
        "outputId": "010ccd4b-5f8a-4f51-92e5-e8aedb758fa4"
      },
      "outputs": [
        {
          "output_type": "execute_result",
          "data": {
            "text/plain": [
              "<sklearn.metrics._plot.confusion_matrix.ConfusionMatrixDisplay at 0x7f785be87d50>"
            ]
          },
          "metadata": {},
          "execution_count": 36
        },
        {
          "output_type": "display_data",
          "data": {
            "image/png": "[encoded data removed]",
            "text/plain": [
              "<Figure size 432x288 with 2 Axes>"
            ]
          },
          "metadata": {
            "needs_background": "light"
          }
        }
      ],
      "source": [
        "ConfusionMatrixDisplay(cms[1], display_labels = ['Not Uplifting', 'Uplifting']).plot()"
      ]
    },
    {
      "cell_type": "code",
      "execution_count": 37,
      "metadata": {
        "colab": {
          "base_uri": "https://localhost:8080/",
          "height": 297
        },
        "id": "6n9Y9fdmGZdH",
        "outputId": "b05cc396-c4db-4222-9cd1-6609c3d0ad08"
      },
      "outputs": [
        {
          "output_type": "execute_result",
          "data": {
            "text/plain": [
              "<sklearn.metrics._plot.confusion_matrix.ConfusionMatrixDisplay at 0x7f785be647d0>"
            ]
          },
          "metadata": {},
          "execution_count": 37
        },
        {
          "output_type": "display_data",
          "data": {
            "image/png": "[encoded data removed]",
            "text/plain": [
              "<Figure size 432x288 with 2 Axes>"
            ]
          },
          "metadata": {
            "needs_background": "light"
          }
        }
      ],
      "source": [
        "ConfusionMatrixDisplay(cms[2], display_labels = ['Not Sad', 'Sad']).plot()"
      ]
    },
    {
      "cell_type": "code",
      "execution_count": 38,
      "metadata": {
        "colab": {
          "base_uri": "https://localhost:8080/",
          "height": 297
        },
        "id": "8EIJb9CFGdD5",
        "outputId": "6e85c391-ff58-4778-b709-cb7db84b1c82"
      },
      "outputs": [
        {
          "output_type": "execute_result",
          "data": {
            "text/plain": [
              "<sklearn.metrics._plot.confusion_matrix.ConfusionMatrixDisplay at 0x7f7850286910>"
            ]
          },
          "metadata": {},
          "execution_count": 38
        },
        {
          "output_type": "display_data",
          "data": {
            "image/png": "[encoded data removed]",
            "text/plain": [
              "<Figure size 432x288 with 2 Axes>"
            ]
          },
          "metadata": {
            "needs_background": "light"
          }
        }
      ],
      "source": [
        "ConfusionMatrixDisplay(cms[3], display_labels = ['Not other', 'Other']).plot()"
      ]
    }
  ],
  "metadata": {
    "colab": {
      "machine_shape": "hm",
      "name": "svm_version1.ipynb",
      "provenance": [],
      "authorship_tag": "ABX9TyNqsZI88t0EpwvUphSCGg8V",
      "include_colab_link": true
    },
    "kernelspec": {
      "display_name": "Python 3",
      "name": "python3"
    },
    "language_info": {
      "name": "python"
    }
  },
  "nbformat": 4,
  "nbformat_minor": 0
}
